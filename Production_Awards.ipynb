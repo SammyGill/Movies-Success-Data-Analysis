{
 "cells": [
  {
   "cell_type": "code",
   "execution_count": 1,
   "metadata": {},
   "outputs": [],
   "source": [
    "# Imports \n",
    "\n",
    "%matplotlib inline\n",
    "\n",
    "import pandas as pd\n",
    "import numpy as np\n",
    "import matplotlib.pyplot as plt"
   ]
  },
  {
   "cell_type": "code",
   "execution_count": 8,
   "metadata": {},
   "outputs": [
    {
     "name": "stderr",
     "output_type": "stream",
     "text": [
      "/Users/spg004/anaconda3/lib/python3.6/site-packages/ipykernel_launcher.py:7: FutureWarning: set_value is deprecated and will be removed in a future release. Please use .at[] or .iat[] accessors instead\n",
      "  import sys\n"
     ]
    }
   ],
   "source": [
    "awards_df = pd.read_csv(\"awards.csv\")\n",
    "\n",
    "# For some reason the dataset switched the name/film columns starting at the 3rd ceremony\n",
    "# We had to compensate for this by moving the name of the film to the correct column for the first 3 ceremonies\n",
    "for index, row in awards_df.iterrows():\n",
    "    if(row[\"Ceremony\"] < 3):\n",
    "        awards_df.set_value(index,'Name',row[\"Film\"])\n",
    "\n",
    "\n",
    "# Drop the Ceremony and Year category since they aren't important\n",
    "awards_df.drop([\"Ceremony\", \"Year\", \"Film\"], axis=1, inplace=True)\n",
    "awards_df.rename(columns={'Name': 'Film'}, inplace=True)\n",
    "awards_df[\"Film\"] = awards_df[\"Film\"].str.strip()\n",
    "awards_df = awards_df.fillna(0)\n",
    "\n",
    "\n",
    "\n",
    "awards = [\"Film Editing\", \"Cinematography\", \"Makeup\", \"Production Design\", \"Art Direction\",\n",
    "         \"Sound Editing\", \"Sound Mixing\", \"Special Effects\" \"Special Visual Effects\", \n",
    "          \"Special Achievement Award (Visual Effects)\", \"Visual Effects\", \"Engineering Effects\"]\n",
    "\n",
    "\n",
    "# Remove all of the rows that do not pertain to any of the production related awards\n",
    "awards_df = awards_df[awards_df[\"Award\"].isin(awards)]\n",
    "\n",
    "# Number of nominations for production related awards \n",
    "nominations = awards_df[\"Film\"].value_counts()\n",
    "\n",
    "# Remove the nominations and only get the winenrs\n",
    "awards_df = awards_df[awards_df[\"Winner\"] == 1]\n",
    "\n",
    "# Numer of winners for production related awards\n",
    "winners_count = awards_df[\"Film\"].value_counts()\n"
   ]
  },
  {
   "cell_type": "code",
   "execution_count": null,
   "metadata": {},
   "outputs": [],
   "source": [
    "the dove\n",
    "tempest 1 art direction\n",
    "the devil dancer\n",
    "the magic flame\n",
    "sadie thompson 0 cinematography\n",
    "alibi\n",
    "the awakening 0 art direction\n",
    "four devils\n",
    "street angel 0 cinematography THIS IS IN\n",
    "\n",
    "\n",
    "\n"
   ]
  }
 ],
 "metadata": {
  "kernelspec": {
   "display_name": "Python 3",
   "language": "python",
   "name": "python3"
  },
  "language_info": {
   "codemirror_mode": {
    "name": "ipython",
    "version": 3
   },
   "file_extension": ".py",
   "mimetype": "text/x-python",
   "name": "python",
   "nbconvert_exporter": "python",
   "pygments_lexer": "ipython3",
   "version": "3.6.4"
  }
 },
 "nbformat": 4,
 "nbformat_minor": 2
}
