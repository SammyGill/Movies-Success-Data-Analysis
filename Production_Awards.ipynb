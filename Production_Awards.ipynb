{
 "cells": [
  {
   "cell_type": "code",
   "execution_count": 2,
   "metadata": {
    "collapsed": true
   },
   "outputs": [],
   "source": [
    "# Imports \n",
    "\n",
    "%matplotlib inline\n",
    "\n",
    "import pandas as pd\n",
    "import numpy as np\n",
    "import matplotlib.pyplot as plt"
   ]
  },
  {
   "cell_type": "code",
   "execution_count": 14,
   "metadata": {},
   "outputs": [
    {
     "data": {
      "text/plain": [
       "The Dark Knight                                           7\n",
       "Master and Commander: The Far Side of the World           7\n",
       "Life of Pi                                                6\n",
       "Hugo                                                      6\n",
       "Avatar                                                    6\n",
       "Gravity                                                   6\n",
       "Mad Max: Fury Road                                        6\n",
       "The Revenant                                              6\n",
       "The Curious Case of Benjamin Button                       6\n",
       "King Kong                                                 6\n",
       "Moulin Rouge                                              5\n",
       "The Lord of the Rings: The Fellowship of the Ring         5\n",
       "Forrest Gump                                              5\n",
       "The Lord of the Rings: The Return of the King             5\n",
       "Inception                                                 5\n",
       "Titanic                                                   5\n",
       "Gladiator                                                 4\n",
       "Gandhi                                                    4\n",
       "Interstellar                                              4\n",
       "Inglourious Basterds                                      4\n",
       "Slumdog Millionaire                                       4\n",
       "The Lord of the Rings: The Two Towers                     4\n",
       "Amadeus                                                   4\n",
       "Pirates of the Caribbean: The Curse of the Black Pearl    4\n",
       "Star Trek                                                 4\n",
       "True Grit                                                 4\n",
       "Shakespeare in Love                                       4\n",
       "Saving Private Ryan                                       4\n",
       "There Will Be Blood                                       4\n",
       "Earthquake                                                4\n",
       "                                                         ..\n",
       "The Sea Inside                                            1\n",
       "The Rose Tattoo                                           1\n",
       "All Quiet on the Western Front                            1\n",
       "Richard III                                               1\n",
       "Mary Shelley's Frankenstein                               1\n",
       "The Graduate                                              1\n",
       "Victor/Victoria                                           1\n",
       "The Duchess                                               1\n",
       "The Informer                                              1\n",
       "The Great Escape                                          1\n",
       "Vertigo                                                   1\n",
       "Hereafter                                                 1\n",
       "Scrooge                                                   1\n",
       "Interview with the Vampire                                1\n",
       "The Dark Angel                                            1\n",
       "Air Force One                                             1\n",
       "Mary, Queen of Scots                                      1\n",
       "A Place in the Sun                                        1\n",
       "The Lost Weekend                                          1\n",
       "Toys                                                      1\n",
       "The Time Machine                                          1\n",
       "The Killers                                               1\n",
       "Iron Man 3                                                1\n",
       "Restoration                                               1\n",
       "Wings over Honolulu                                       1\n",
       "Bedknobs and Broomsticks                                  1\n",
       "The Molly Maguires                                        1\n",
       "The Competition                                           1\n",
       "The High and the Mighty                                   1\n",
       "Hell's Angels                                             1\n",
       "Name: Film, Length: 884, dtype: int64"
      ]
     },
     "execution_count": 14,
     "metadata": {},
     "output_type": "execute_result"
    }
   ],
   "source": [
    "awards_df = pd.read_csv(\"awards.csv\")\n",
    "\n",
    "for index, row in awards_df.iterrows():\n",
    "    if(row[\"Ceremony\"] < 3):\n",
    "        awards_df.set_value(index,'Name',row[\"Film\"])\n",
    "\n",
    "\n",
    "# Drop the Ceremony and Year category since they aren't important\n",
    "awards_df.drop([\"Ceremony\", \"Year\", \"Film\"], axis=1, inplace=True)\n",
    "awards_df.rename(columns={'Name': 'Film'}, inplace=True)\n",
    "awards_df[\"Film\"] = awards_df[\"Film\"].str.strip()\n",
    "awards_df = awards_df.fillna(0)\n",
    "\n",
    "\n",
    "\n",
    "awards = [\"Film Editing\", \"Cinematography\", \"Makeup\", \"Production Design\", \"Art Direction\",\n",
    "         \"Sound Editing\", \"Sound Mixing\", \"Special Effects\" \"Special Visual Effects\", \n",
    "          \"Special Achievement Award (Visual Effects)\", \"Visual Effects\", \"Engineering Effects\"]\n",
    "\n",
    "\n",
    "\n",
    "awards_df = awards_df[awards_df[\"Award\"].isin(awards)]\n",
    "\n",
    "nominations = awards_df[\"Film\"].value_counts()\n",
    "\n",
    "nominations"
   ]
  },
  {
   "cell_type": "code",
   "execution_count": null,
   "metadata": {
    "collapsed": true,
    "scrolled": true
   },
   "outputs": [],
   "source": [
    "awards_df.groupby(\"Film\").Film.count()"
   ]
  },
  {
   "cell_type": "code",
   "execution_count": null,
   "metadata": {
    "collapsed": true
   },
   "outputs": [],
   "source": []
  }
 ],
 "metadata": {
  "kernelspec": {
   "display_name": "Python 3",
   "language": "python",
   "name": "python3"
  },
  "language_info": {
   "codemirror_mode": {
    "name": "ipython",
    "version": 3
   },
   "file_extension": ".py",
   "mimetype": "text/x-python",
   "name": "python",
   "nbconvert_exporter": "python",
   "pygments_lexer": "ipython3",
   "version": "3.6.3"
  }
 },
 "nbformat": 4,
 "nbformat_minor": 2
}
