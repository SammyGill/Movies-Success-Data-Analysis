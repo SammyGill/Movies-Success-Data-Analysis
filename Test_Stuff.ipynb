{
 "cells": [
  {
   "cell_type": "code",
   "execution_count": 1,
   "metadata": {},
   "outputs": [
    {
     "name": "stdout",
     "output_type": "stream",
     "text": [
      "Solving environment: done\n",
      "\n",
      "\n",
      "==> WARNING: A newer version of conda exists. <==\n",
      "  current version: 4.4.9\n",
      "  latest version: 4.4.11\n",
      "\n",
      "Please update conda by running\n",
      "\n",
      "    $ conda update -n base conda\n",
      "\n",
      "\n",
      "\n",
      "# All requested packages already installed.\n",
      "\n"
     ]
    }
   ],
   "source": [
    "\n",
    "\n",
    "# Installing Beautiful Soup\n",
    "import sys\n",
    "!conda install --yes --prefix {sys.prefix} beautifulsoup4"
   ]
  },
  {
   "cell_type": "code",
   "execution_count": 2,
   "metadata": {
    "collapsed": true
   },
   "outputs": [],
   "source": [
    "# Imports for assignment\n",
    "\n",
    "%matplotlib inline\n",
    "\n",
    "import pandas as pd\n",
    "import numpy as np\n",
    "import matplotlib.pyplot as plt\n",
    "import requests\n",
    "import bs4\n",
    "from bs4 import BeautifulSoup"
   ]
  },
  {
   "cell_type": "code",
   "execution_count": 3,
   "metadata": {},
   "outputs": [
    {
     "name": "stderr",
     "output_type": "stream",
     "text": [
      "/anaconda3/lib/python3.6/site-packages/IPython/core/interactiveshell.py:2698: DtypeWarning: Columns (10) have mixed types. Specify dtype option on import or set low_memory=False.\n",
      "  interactivity=interactivity, compiler=compiler, result=result)\n"
     ]
    }
   ],
   "source": [
    "movies_metadata = pd.read_csv(\"the-movies-dataset/movies_metadata.csv\")"
   ]
  },
  {
   "cell_type": "code",
   "execution_count": 4,
   "metadata": {
    "collapsed": true
   },
   "outputs": [],
   "source": [
    "# List of Oscars Winners\n",
    "\n",
    "best_picture = \"https://en.wikipedia.org/wiki/Academy_Award_for_Best_Picture\"\n",
    "\n",
    "# If you win one of these are you more likely to win best picture?\n",
    "best_director = \"https://en.wikipedia.org/wiki/Academy_Award_for_Best_Director\"\n",
    "best_actor = \"https://en.wikipedia.org/wiki/Academy_Award_for_Best_Actor\"\n",
    "best_supporting_actor = \"https://en.wikipedia.org/wiki/Academy_Award_for_Best_Supporting_Actor\"\n",
    "best_actress = \"https://en.wikipedia.org/wiki/Academy_Award_for_Best_Actress\"\n",
    "best_supporting_actress = \"https://en.wikipedia.org/wiki/Academy_Award_for_Best_Supporting_Actress\"\n",
    "\n",
    "\n",
    "best_animated_feature = \"https://en.wikipedia.org/wiki/Academy_Award_for_Best_Animated_Feature\"\n",
    "best_animated_short = \"https://en.wikipedia.org/wiki/Academy_Award_for_Best_Animated_Short_Film\"\n",
    "\n",
    "best_screenplay = \"https://en.wikipedia.org/wiki/Academy_Award_for_Best_Adapted_Screenplay\"\n",
    "best_original_screenplay = \"https://en.wikipedia.org/wiki/Academy_Award_for_Best_Original_Screenplay\"\n",
    "\n",
    "\n",
    "# Things related directly budget?\n",
    "best_cin = \"https://en.wikipedia.org/wiki/Academy_Award_for_Best_Cinematography\"\n",
    "best_film_editing = \"https://en.wikipedia.org/wiki/Academy_Award_for_Best_Film_Editing\"\n",
    "best_makeup = \"https://en.wikipedia.org/wiki/Academy_Award_for_Best_Makeup_and_Hairstyling\"\n",
    "best_production = \"https://en.wikipedia.org/wiki/Academy_Award_for_Best_Production_Design\"\n",
    "best_sound = \"https://en.wikipedia.org/wiki/Academy_Award_for_Best_Sound_Editing\"\n",
    "best_mixing = \"https://en.wikipedia.org/wiki/Academy_Award_for_Best_Sound_Mixing\"\n",
    "best_effects = \"https://en.wikipedia.org/wiki/Academy_Award_for_Best_Visual_Effects\""
   ]
  },
  {
   "cell_type": "code",
   "execution_count": 7,
   "metadata": {},
   "outputs": [
    {
     "name": "stdout",
     "output_type": "stream",
     "text": [
      "<tr bgcolor=\"#BEBEBE\">\n",
      "<th width=\"5%\">Year</th>\n",
      "<th width=\"40%\">Film</th>\n",
      "<th width=\"55%\">Nominees</th>\n",
      "</tr>\n",
      "loser\n",
      "<tr>\n",
      "<td rowspan=\"4\" style=\"text-align:center\"><b><a href=\"/wiki/1928_in_film\" title=\"1928 in film\">1927/28</a></b><br/>\n",
      "<small><a href=\"/wiki/1st_Academy_Awards\" title=\"1st Academy Awards\">(1st)</a></small><br/></td>\n",
      "</tr>\n",
      "loser\n",
      "winner\n",
      "<tr>\n",
      "<td><i><a href=\"/wiki/The_Racket_(1928_film)\" title=\"The Racket (1928 film)\">The Racket</a></i></td>\n",
      "<td>The Caddo Company</td>\n",
      "</tr>\n",
      "loser\n",
      "<tr>\n",
      "<td rowspan=\"6\" style=\"text-align:center\"><b><a href=\"/wiki/1929_in_film\" title=\"1929 in film\">1928/29</a></b><br/>\n",
      "<small><a href=\"/wiki/2nd_Academy_Awards\" title=\"2nd Academy Awards\">(2nd)</a></small><br/>\n",
      "<sup class=\"reference\" id=\"cite_ref-twentynine_25-0\"><a href=\"#cite_note-twentynine-25\">[note 1]</a></sup></td>\n",
      "</tr>\n",
      "loser\n",
      "winner\n",
      "<tr>\n",
      "<td><i><a href=\"/wiki/Alibi_(1929_film)\" title=\"Alibi (1929 film)\">Alibi</a></i></td>\n",
      "<td><a href=\"/wiki/United_Artists\" title=\"United Artists\">Feature Productions</a></td>\n",
      "</tr>\n",
      "loser\n",
      "<tr>\n",
      "<td><i><a href=\"/wiki/In_Old_Arizona\" title=\"In Old Arizona\">In Old Arizona</a></i></td>\n",
      "<td><a href=\"/wiki/Fox_Film\" title=\"Fox Film\">Fox</a></td>\n",
      "</tr>\n",
      "loser\n"
     ]
    }
   ],
   "source": [
    "page = requests.get(best_picture)\n",
    "soup = BeautifulSoup(page.content, \"html.parser\")\n",
    "\n",
    "tables = soup.find(\"table\", {\"class\":\"wikitable\"})\n",
    "\n",
    "for row in tables.find_all(\"tr\"):\n",
    "    try:\n",
    "        if(row[\"style\"] == \"background:#FAEB86\"):\n",
    "            print(\"winner\")\n",
    "    except:\n",
    "        print(row)\n",
    "        print(\"loser\")\n",
    "    cells = row.findAll(\"td\")\n",
    "    if(len(cells) != 2):\n",
    "        continue\n",
    "    \n",
    "    #print(cells[0])\n",
    "    # Nominees print(cells[1].find(text=True))\n",
    "    "
   ]
  }
 ],
 "metadata": {
  "kernelspec": {
   "display_name": "Python 3",
   "language": "python",
   "name": "python3"
  },
  "language_info": {
   "codemirror_mode": {
    "name": "ipython",
    "version": 3
   },
   "file_extension": ".py",
   "mimetype": "text/x-python",
   "name": "python",
   "nbconvert_exporter": "python",
   "pygments_lexer": "ipython3",
   "version": "3.6.3"
  }
 },
 "nbformat": 4,
 "nbformat_minor": 2
}
