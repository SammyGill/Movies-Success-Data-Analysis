{
 "cells": [
  {
   "cell_type": "code",
   "execution_count": 212,
   "metadata": {},
   "outputs": [
    {
     "name": "stderr",
     "output_type": "stream",
     "text": [
      "/Users/gardami01/anaconda3/lib/python3.6/site-packages/statsmodels/compat/pandas.py:56: FutureWarning: The pandas.core.datetools module is deprecated and will be removed in a future version. Please use the pandas.tseries module instead.\n",
      "  from pandas.core import datetools\n"
     ]
    }
   ],
   "source": [
    "%matplotlib inline\n",
    "\n",
    "import numpy as np\n",
    "import pandas as pd\n",
    "import matplotlib.pyplot as plt\n",
    "\n",
    "import patsy\n",
    "import statsmodels.api as sm\n",
    "import scipy.stats as stats\n",
    "from scipy.stats import ttest_ind, chisquare, normaltest"
   ]
  },
  {
   "cell_type": "code",
   "execution_count": 200,
   "metadata": {},
   "outputs": [],
   "source": [
    "df = pd.read_csv('tmdb_5000_movies.csv')\n",
    "df.dropna(subset=['release_date'], inplace = True)\n",
    "df.loc[:,'season'] = 1"
   ]
  },
  {
   "cell_type": "code",
   "execution_count": 201,
   "metadata": {},
   "outputs": [],
   "source": [
    "for i in range(0,df.shape[0]*10):\n",
    "    try:\n",
    "        df.release_date[i] = df.release_date[i].replace('-',\"\")\n",
    "        df.release_date[i] = df.release_date[i][4:]\n",
    "        df.release_date[i] = df.release_date[i][:2]\n",
    "    except KeyError:\n",
    "        pass"
   ]
  },
  {
   "cell_type": "code",
   "execution_count": 206,
   "metadata": {},
   "outputs": [],
   "source": [
    "for i in range(0,df.shape[0]*10):\n",
    "    try:\n",
    "        df.season[i] = (int(df.release_date[i]))\n",
    "    except KeyError:\n",
    "        pass"
   ]
  },
  {
   "cell_type": "code",
   "execution_count": 207,
   "metadata": {},
   "outputs": [
    {
     "data": {
      "text/plain": [
       "'for i in range(0,df.shape[0]*10):\\n    try:\\n        if ((int(df.release_date[i]) == 12) | (int(df.release_date[i]) == 1) |\\n            (int(df.release_date[i]) == 2) | (int(df.release_date[i]) == 3) ):\\n            df.season[i] = 1\\n        elif ((int(df.release_date[i]) == 4) | (int(df.release_date[i]) == 5) |\\n            (int(df.release_date[i]) == 6) ):\\n            df.season[i] = 2\\n        elif ((int(df.release_date[i]) == 7) | (int(df.release_date[i]) == 8) |\\n            (int(df.release_date[i]) == 9)):\\n            df.season[i] = 3\\n        elif ((int(df.release_date[i]) == 10) | (int(df.release_date[i]) == 11)):\\n            df.season[i] = 4\\n        \\n    except KeyError:\\n        pass\\n'"
      ]
     },
     "execution_count": 207,
     "metadata": {},
     "output_type": "execute_result"
    }
   ],
   "source": [
    "'''for i in range(0,df.shape[0]*10):\n",
    "    try:\n",
    "        if ((int(df.release_date[i]) == 12) | (int(df.release_date[i]) == 1) |\n",
    "            (int(df.release_date[i]) == 2) | (int(df.release_date[i]) == 3) ):\n",
    "            df.season[i] = 1\n",
    "        elif ((int(df.release_date[i]) == 4) | (int(df.release_date[i]) == 5) |\n",
    "            (int(df.release_date[i]) == 6) ):\n",
    "            df.season[i] = 2\n",
    "        elif ((int(df.release_date[i]) == 7) | (int(df.release_date[i]) == 8) |\n",
    "            (int(df.release_date[i]) == 9)):\n",
    "            df.season[i] = 3\n",
    "        elif ((int(df.release_date[i]) == 10) | (int(df.release_date[i]) == 11)):\n",
    "            df.season[i] = 4\n",
    "        \n",
    "    except KeyError:\n",
    "        pass\n",
    "'''"
   ]
  },
  {
   "cell_type": "code",
   "execution_count": 208,
   "metadata": {},
   "outputs": [],
   "source": [
    "corrs = df.corr()"
   ]
  },
  {
   "cell_type": "code",
   "execution_count": 209,
   "metadata": {},
   "outputs": [
    {
     "data": {
      "text/html": [
       "<div>\n",
       "<style>\n",
       "    .dataframe thead tr:only-child th {\n",
       "        text-align: right;\n",
       "    }\n",
       "\n",
       "    .dataframe thead th {\n",
       "        text-align: left;\n",
       "    }\n",
       "\n",
       "    .dataframe tbody tr th {\n",
       "        vertical-align: top;\n",
       "    }\n",
       "</style>\n",
       "<table border=\"1\" class=\"dataframe\">\n",
       "  <thead>\n",
       "    <tr style=\"text-align: right;\">\n",
       "      <th></th>\n",
       "      <th>budget</th>\n",
       "      <th>id</th>\n",
       "      <th>popularity</th>\n",
       "      <th>revenue</th>\n",
       "      <th>runtime</th>\n",
       "      <th>vote_average</th>\n",
       "      <th>vote_count</th>\n",
       "      <th>season</th>\n",
       "    </tr>\n",
       "  </thead>\n",
       "  <tbody>\n",
       "    <tr>\n",
       "      <th>budget</th>\n",
       "      <td>1.000000</td>\n",
       "      <td>-0.088963</td>\n",
       "      <td>0.505364</td>\n",
       "      <td>0.730806</td>\n",
       "      <td>0.269792</td>\n",
       "      <td>0.092644</td>\n",
       "      <td>0.593148</td>\n",
       "      <td>0.050281</td>\n",
       "    </tr>\n",
       "    <tr>\n",
       "      <th>id</th>\n",
       "      <td>-0.088963</td>\n",
       "      <td>1.000000</td>\n",
       "      <td>0.031760</td>\n",
       "      <td>-0.050113</td>\n",
       "      <td>-0.150497</td>\n",
       "      <td>-0.267822</td>\n",
       "      <td>-0.003710</td>\n",
       "      <td>-0.030377</td>\n",
       "    </tr>\n",
       "    <tr>\n",
       "      <th>popularity</th>\n",
       "      <td>0.505364</td>\n",
       "      <td>0.031760</td>\n",
       "      <td>1.000000</td>\n",
       "      <td>0.644700</td>\n",
       "      <td>0.225372</td>\n",
       "      <td>0.273990</td>\n",
       "      <td>0.778114</td>\n",
       "      <td>0.046648</td>\n",
       "    </tr>\n",
       "    <tr>\n",
       "      <th>revenue</th>\n",
       "      <td>0.730806</td>\n",
       "      <td>-0.050113</td>\n",
       "      <td>0.644700</td>\n",
       "      <td>1.000000</td>\n",
       "      <td>0.251188</td>\n",
       "      <td>0.197153</td>\n",
       "      <td>0.781475</td>\n",
       "      <td>0.055232</td>\n",
       "    </tr>\n",
       "    <tr>\n",
       "      <th>runtime</th>\n",
       "      <td>0.269792</td>\n",
       "      <td>-0.150497</td>\n",
       "      <td>0.225372</td>\n",
       "      <td>0.251188</td>\n",
       "      <td>1.000000</td>\n",
       "      <td>0.371888</td>\n",
       "      <td>0.272036</td>\n",
       "      <td>0.157792</td>\n",
       "    </tr>\n",
       "    <tr>\n",
       "      <th>vote_average</th>\n",
       "      <td>0.092644</td>\n",
       "      <td>-0.267822</td>\n",
       "      <td>0.273990</td>\n",
       "      <td>0.197153</td>\n",
       "      <td>0.371888</td>\n",
       "      <td>1.000000</td>\n",
       "      <td>0.313263</td>\n",
       "      <td>0.108011</td>\n",
       "    </tr>\n",
       "    <tr>\n",
       "      <th>vote_count</th>\n",
       "      <td>0.593148</td>\n",
       "      <td>-0.003710</td>\n",
       "      <td>0.778114</td>\n",
       "      <td>0.781475</td>\n",
       "      <td>0.272036</td>\n",
       "      <td>0.313263</td>\n",
       "      <td>1.000000</td>\n",
       "      <td>0.042652</td>\n",
       "    </tr>\n",
       "    <tr>\n",
       "      <th>season</th>\n",
       "      <td>0.050281</td>\n",
       "      <td>-0.030377</td>\n",
       "      <td>0.046648</td>\n",
       "      <td>0.055232</td>\n",
       "      <td>0.157792</td>\n",
       "      <td>0.108011</td>\n",
       "      <td>0.042652</td>\n",
       "      <td>1.000000</td>\n",
       "    </tr>\n",
       "  </tbody>\n",
       "</table>\n",
       "</div>"
      ],
      "text/plain": [
       "                budget        id  popularity   revenue   runtime  \\\n",
       "budget        1.000000 -0.088963    0.505364  0.730806  0.269792   \n",
       "id           -0.088963  1.000000    0.031760 -0.050113 -0.150497   \n",
       "popularity    0.505364  0.031760    1.000000  0.644700  0.225372   \n",
       "revenue       0.730806 -0.050113    0.644700  1.000000  0.251188   \n",
       "runtime       0.269792 -0.150497    0.225372  0.251188  1.000000   \n",
       "vote_average  0.092644 -0.267822    0.273990  0.197153  0.371888   \n",
       "vote_count    0.593148 -0.003710    0.778114  0.781475  0.272036   \n",
       "season        0.050281 -0.030377    0.046648  0.055232  0.157792   \n",
       "\n",
       "              vote_average  vote_count    season  \n",
       "budget            0.092644    0.593148  0.050281  \n",
       "id               -0.267822   -0.003710 -0.030377  \n",
       "popularity        0.273990    0.778114  0.046648  \n",
       "revenue           0.197153    0.781475  0.055232  \n",
       "runtime           0.371888    0.272036  0.157792  \n",
       "vote_average      1.000000    0.313263  0.108011  \n",
       "vote_count        0.313263    1.000000  0.042652  \n",
       "season            0.108011    0.042652  1.000000  "
      ]
     },
     "execution_count": 209,
     "metadata": {},
     "output_type": "execute_result"
    }
   ],
   "source": [
    "corrs"
   ]
  },
  {
   "cell_type": "code",
   "execution_count": 215,
   "metadata": {},
   "outputs": [],
   "source": [
    "outcome, predictors = patsy.dmatrices('vote_count ~ season',df)\n",
    "mod_1 = sm.OLS(outcome,predictors)\n",
    "res_1 = mod_1.fit()"
   ]
  },
  {
   "cell_type": "code",
   "execution_count": 216,
   "metadata": {},
   "outputs": [
    {
     "name": "stdout",
     "output_type": "stream",
     "text": [
      "                            OLS Regression Results                            \n",
      "==============================================================================\n",
      "Dep. Variable:             vote_count   R-squared:                       0.002\n",
      "Model:                            OLS   Adj. R-squared:                  0.002\n",
      "Method:                 Least Squares   F-statistic:                     8.748\n",
      "Date:                Sun, 25 Feb 2018   Prob (F-statistic):            0.00311\n",
      "Time:                        00:13:43   Log-Likelihood:                -40992.\n",
      "No. Observations:                4802   AIC:                         8.199e+04\n",
      "Df Residuals:                    4800   BIC:                         8.200e+04\n",
      "Df Model:                           1                                         \n",
      "Covariance Type:            nonrobust                                         \n",
      "==============================================================================\n",
      "                 coef    std err          t      P>|t|      [0.025      0.975]\n",
      "------------------------------------------------------------------------------\n",
      "Intercept    585.8448     39.568     14.806      0.000     508.273     663.416\n",
      "season        15.3794      5.200      2.958      0.003       5.186      25.573\n",
      "==============================================================================\n",
      "Omnibus:                     3890.089   Durbin-Watson:                   1.171\n",
      "Prob(Omnibus):                  0.000   Jarque-Bera (JB):            90749.381\n",
      "Skew:                           3.820   Prob(JB):                         0.00\n",
      "Kurtosis:                      22.880   Cond. No.                         17.1\n",
      "==============================================================================\n",
      "\n",
      "Warnings:\n",
      "[1] Standard Errors assume that the covariance matrix of the errors is correctly specified.\n"
     ]
    }
   ],
   "source": [
    "print(res_1.summary())"
   ]
  }
 ],
 "metadata": {
  "kernelspec": {
   "display_name": "Python 3",
   "language": "python",
   "name": "python3"
  },
  "language_info": {
   "codemirror_mode": {
    "name": "ipython",
    "version": 3
   },
   "file_extension": ".py",
   "mimetype": "text/x-python",
   "name": "python",
   "nbconvert_exporter": "python",
   "pygments_lexer": "ipython3",
   "version": "3.6.3"
  }
 },
 "nbformat": 4,
 "nbformat_minor": 2
}
