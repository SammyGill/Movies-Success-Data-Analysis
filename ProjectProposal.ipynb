{
 "cells": [
  {
   "cell_type": "markdown",
   "metadata": {},
   "source": [
    "# COGS 108 - Project Proposal"
   ]
  },
  {
   "cell_type": "markdown",
   "metadata": {},
   "source": [
    "## Important\n",
    "\n",
    "- Make sure all group members (3-5 people) are listed in the group members section.\n",
    "- ONE, and only one, member of your group should upload this notebook to TritonED. \n",
    "- Each member of the group will receive the same grade on this assignment. \n",
    "- Keep the file name the same: submit the file 'ProjectProposal.ipynb'"
   ]
  },
  {
   "cell_type": "markdown",
   "metadata": {},
   "source": [
    "## Overview"
   ]
  },
  {
   "cell_type": "markdown",
   "metadata": {},
   "source": [
    "Read the project description and detailed instructions for this assignment in the 'ProjectOutline' document."
   ]
  },
  {
   "cell_type": "markdown",
   "metadata": {},
   "source": [
    "## Group Members: Fill in the Student IDs of each group member here\n",
    "\n",
    "Replace the lines below to list each persons full student ID. Add lines as needed for your group size, and make sure each ID is listed on a separate line. \n",
    "\n",
    "- A13614632\n",
    "- A11315803\n",
    "- A13426757\n",
    "- A14012295\n",
    "- A13101416"
   ]
  },
  {
   "cell_type": "markdown",
   "metadata": {},
   "source": [
    "### Research Question\n",
    "\n",
    "What is your research question? (1-2 sentences)"
   ]
  },
  {
   "cell_type": "markdown",
   "metadata": {},
   "source": [
    "Are there any commonalities between movies that are successful financially, critically, or both? Are we able to make predictions as to which movies will be successful without actually watching the movie (i.e. analyzing certain properties of the movie)?"
   ]
  },
  {
   "cell_type": "markdown",
   "metadata": {},
   "source": [
    "### Hypothesis\n",
    "\n",
    "What is your main hypothesis and predictions? (2-3 sentences)"
   ]
  },
  {
   "cell_type": "markdown",
   "metadata": {},
   "source": [
    "We believe that fan ratings will strongly correlate with how successful a movie is at the box office, but will not be a strong indicator for the number of awards it will receieve. A movie that has a much higher budget may also be much more likely to due well financially. In terms of the number of awards, however, we believe that it will be much harder to tell if there is any sort of correlation with anything (ratings by critics, if anything). "
   ]
  },
  {
   "cell_type": "markdown",
   "metadata": {},
   "source": [
    "### Dataset(s)\n",
    "\n",
    "What data will you use to answer your question? Describe the dataset(s) in terms of number of observations, what kind of features it contains, etc. You must use at least one dataset containing at least approximately 1000 observations (if your data are smaller but you feel they are sufficient, email Prof. Voytek). You are welcome (and in fact recommended) to find multiple datasets! If you do so, describe each one, and briefly explain how you will combine them together. "
   ]
  },
  {
   "cell_type": "markdown",
   "metadata": {},
   "source": [
    "*Fill in your dataset information here*\n",
    "\n",
    "(Copy this information for each dataset)\n",
    "- Dataset Name: The Movies Dataset\n",
    "- Link to the dataset: https://www.kaggle.com/rounakbanik/the-movies-dataset\n",
    "- Number of observations: 45,000\n",
    "This dataset contains a lot of meta data, including genre, budget, revenue, and much more. Some of the fields seem to be empty, as some of the data may not have been reported for older movies.\n",
    "\n",
    "- Dataset Name: The IMDB database\n",
    "- Link to the dataset: https://datasets.imdbws.com/\n",
    "- Number of observations: 20,000,000+\n",
    "IMDB keeps up to date datasets that include basic information, crew information, episode information, principal cast information, ratings information, and individual-specific information. The interfaces of each dataset is clearly documented here: http://www.imdb.com/interfaces/ There are movies from 1874-2025 and information about people all across the movie industry.\n",
    "\n",
    "We will also be attempting to web scrape data for various awards shows. Much of this information should be easy to get, as Wikipedia collects much of this information. We may also try to scrape Rotten Tomatoes reviews, as we may be able to analyze the reviews for movies to see if there is any sort of viewable pattern."
   ]
  },
  {
   "cell_type": "markdown",
   "metadata": {},
   "source": [
    "### Background and Prior Work\n",
    "\n",
    "Why is this question of interest, what background information led you to your hypothesis, and why is this important?\n",
    "\n",
    "Find some relevant prior work, and reference those sources. Even if you think you have a totally novel question, find the most similar prior work that you can and discuss how it relates to your project. \n",
    "\n",
    "References can be research publications, but they need not be. Blogs, github repositories, company websites, etc., are all viable references if they are relevant to your project.\n",
    "\n",
    "(2-3 paragraphs, including at least 2 references)"
   ]
  },
  {
   "cell_type": "markdown",
   "metadata": {},
   "source": [
    "With the start of awards season, Hollywood’s biggest event, The Oscars, is fast approaching. With the Oscars being such a large and significant event, we want to see if there is any sort of pattern with the movies that win specific awards. Perhaps there are some commonalities between the movies that win Best Picture that can be easily seen with data analysis.\n",
    "\n",
    "References (include links):\n",
    "- 1) https://imgur.com/YrtVyLd\n",
    "This analysis determines that there is a correlation between the budget of a movie and its financial success at the box office. This is a part of the analysis that we would like to conduct. We would like to greatly improve on this by determining how this may relate to critical reception. Although this trend is easily viewable, we still do not know if it is a practical method to determine how others may react the movie. Perhaps movies with higher budgets may develop more hype around their release, but may not affect the quality of the film itself.  \n",
    "\n",
    "- 2) https://towardsdatascience.com/and-the-oscar-goes-to-data-analytics-8e6728fcfcf8\n",
    "This analysis moves in a slightly different direction. Specifically, it aims to make predictions on the Oscars (critical reception) rather than financial success. It does this by performing sentiment analysis through various social media platforms. This seems to be a step in the right direction, but it also did consist of many incorrect predictions. This may be because the analysis took into account both fan and critic responses. If these two opinions greatly differ, then the prediction is more likely to saturated with misleading fan opinions (as awards are not determined by fan opinions)."
   ]
  },
  {
   "cell_type": "markdown",
   "metadata": {},
   "source": [
    "### Proposed Methods\n",
    "\n",
    "What methods will you use to analyze your data?\n",
    "\n",
    "- How 'clean' is the data? To the extent that it requires cleaning, how will you do so?\n",
    "- How will you analyze the data? Be as specific as you can. Briefly mention any pre-processing steps that are required for your methods (for example, checking data distributions and performing any transformations that may be required). Include a brief outline of how you will apply your chosen method(s). \n",
    "- What do you plan to report? Briefly mention any key visualizations you plan to create, and/or the kind of results you will be able to report that address your question (this could be, for example, the outcome of some statistical test(s), prediction error on a model, a model fit parameter, etc.).\n",
    "- Include a list of packages you expect to use for you project. If you plan to use packages we have not used in class, add a very brief description about them (a few words is sufficient). "
   ]
  },
  {
   "cell_type": "markdown",
   "metadata": {},
   "source": [
    "To clean the data, we will have to both combine different data sets and remove/edit missing data. The database is missing various pieces of data, such as budgets, for older movies (we suspect this is because this was not usually reported in the past). We will also have to remove unecessary columns that do not contribute to our analysis and replace them with data that we scrape (Rotten Tomatoes reviews and awards). Furthermore, our IMDB datasets use tab-seperated files instead of comma-seperated, so we will have to use another method to parse those datasets.\n",
    "\n",
    "*Data Analysis (1-2 paragraphs)*\n",
    "For our analysis, we will be determining if there are any correlations between various variables. We will also have to define various measures of \"success,\" as one person may define success differently than another. Some of these variables that we will consider are budget and revenue as well as popularity and fan/critical reception. This will be done by plotting the variables on a scatter plot, as it will make it easy to determine if there is any sort of relationship between them.\n",
    "\n",
    "We will also attempt to determine if there are certain factors that make it more likely for a movie to win a certain award. For example, does the vocabulary of a script make it more likely to win an award for writing? Does a more negative/positive script make it more likely to win an award, such as drama? This type of analysis will rely on how strong of a presence a variable has within a movie.\n",
    "\n",
    "We may also need to transform certain data, such as budgets and revenues. This may be required if want want to compare these values to other data. \n",
    "\n",
    "We want to report any significant correlations we see that may allow us to make easy predictions. We will show this by providing a best fit line for data that seems to be strongly correlated. For the second part of our analysis, where we determine the presence of some variable, we may want to consider using a histogram. This will make it easy to see if movies with a higher concentration of a variable make it more likely for them to win an award. \n",
    "\n",
    "Packages we plan to use:\n",
    "- Pandas\n",
    "- Beautiful Soup \n",
    "- Numpy"
   ]
  },
  {
   "cell_type": "markdown",
   "metadata": {},
   "source": [
    "### Ethics and Privacy\n",
    "\n",
    "Briefly acknowledge and address any potential issues of ethics and privacy for the proposed project. In particular:\n",
    "- Do you have permission to use this data, for this purpose?\n",
    "- Are there privacy concerns regarding your datasets that you need to deal with, and/or terms of use that you need to comply with?\n",
    "- Are there potential biases in your dataset(s), in terms of who it composes, and how it was collected, that may be problematic in terms of it allowing for equitable analysis? (For example, does your data exclude particular populations, or is it likely to reflect particular human biases in a way that could be a problem?) \n",
    "- Are there any other issues related to your topic area, data, and/or analyses that are potentially problematic in terms of data privacy and equitable impact?\n",
    "- How will you handle any issues you identify?\n",
    "\n",
    "(1-2 paragraphs)\n",
    "In terms of Ethics and Privacy, we may not come into many issues. A lot of the data has already been collected and contains little to no information on any individuals, as they are all based around movies. One problem we may run into is with Rotten Tomato reviews. When we attempt to collect these reviews, we may also collect some personal information, such as usernames and other identifiable information. If we do come into this type of issue, we will need to remove anything that identifies the users.\n",
    "\n",
    "We may also run into some biases with certain movies. Various franchies (Star Wars, Lord of the Rings, etc.) have extremely vocal fanbases, which may be reflected in the reviews that we collect. If this does occur, it could also be viewed in two different ways. In one way, it may be viewed as a bias that represents a select group of people. On the other hand, it may also demonstrate how there are stark contrasts between ciric and fan receptions. This is something that we will have to discuss as a group and determine which way we want to view it."
   ]
  },
  {
   "cell_type": "markdown",
   "metadata": {},
   "source": [
    "### Discussion\n",
    "\n",
    "Discuss your project, looking forward to what your results might mean, how they fit it in with what is already known, and what problems you may encounter. \n",
    "\n",
    "In particular:\n",
    "- If your analyses and hypotheses are correct, what will be the contribution of this project to the topic domain? \n",
    "- Alternatively, what will you do if you methods don't work and/or your hypotheses are wrong? \n",
    "- What are the potential pitfalls and potential confounds of your data and/or methods that may cause problems, and/or influence your interpretations?\n",
    "\n",
    "(2-3 paragraphs)"
   ]
  },
  {
   "cell_type": "markdown",
   "metadata": {},
   "source": [
    "Our hypothesis is that a movie’s likelihood of winning an award is tied to its budget. If we can tie the amount of fiscal investment to the award chance, then our contribution to the overall topic domain can be provided as a predictor for future winners. We can predict what people will think of a movie based on its budget and financial success, and use that to predict future outcomes for movies in the future.\n",
    "\n",
    "However, if our hypotheses doesn’t work out, we can try to find some other correlations that relate to the award chance or other factors that tie into the movies’ budgets. For example, we can look at how well received the movies were by critics versus by fans and see if there is a relation between movie success based upon critics and fans agreeing or disagreeing. We may also see a trend between how much marketing is done to promote films and how successful those films become. We could also look at how likely movies are to succeed by the success of the cast and crew involved in the project.\n",
    "\n",
    "Another major factor that is hard for our data to account for is the change of preferences over time. Critics could get tired of a certain aspect of movies that once yielded success. Furthermore, cultures around the world are constantly changing. It is difficult to quantify \"culture\" and apply that to our analysis without arbitrarily labeling periods of culture."
   ]
  }
 ],
 "metadata": {
  "kernelspec": {
   "display_name": "Python 3",
   "language": "python",
   "name": "python3"
  },
  "language_info": {
   "codemirror_mode": {
    "name": "ipython",
    "version": 3
   },
   "file_extension": ".py",
   "mimetype": "text/x-python",
   "name": "python",
   "nbconvert_exporter": "python",
   "pygments_lexer": "ipython3",
   "version": "3.6.3"
  }
 },
 "nbformat": 4,
 "nbformat_minor": 2
}
