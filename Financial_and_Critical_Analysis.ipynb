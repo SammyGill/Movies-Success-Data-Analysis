{
 "cells": [
  {
   "cell_type": "code",
   "execution_count": 46,
   "metadata": {},
   "outputs": [],
   "source": [
    "# Imports for project\n",
    "\n",
    "%matplotlib inline\n",
    "\n",
    "import numpy as np\n",
    "import pandas as pd\n",
    "import matplotlib.pyplot as plt\n",
    "\n",
    "import patsy\n",
    "import statsmodels.api as sm\n",
    "import scipy.stats as stats\n",
    "from scipy.stats import ttest_ind, chisquare, normaltest"
   ]
  },
  {
   "cell_type": "markdown",
   "metadata": {},
   "source": [
    "Our goal is to see if we can find any characteristics of a movie that can help predict its financial and critical success. For our case, we will define financial success as the revenue earned and critical success as the weighted ratings from IMDB. First we need to gather the data sets that we will be using and creating the data frame. We'll begin by creating a dataframe with the weighted ratings from movies since IMDB only provides the formula used and not the dataset itself."
   ]
  },
  {
   "cell_type": "code",
   "execution_count": 47,
   "metadata": {},
   "outputs": [
    {
     "name": "stderr",
     "output_type": "stream",
     "text": [
      "/anaconda3/lib/python3.6/site-packages/IPython/core/interactiveshell.py:2698: DtypeWarning: Columns (5) have mixed types. Specify dtype option on import or set low_memory=False.\n",
      "  interactivity=interactivity, compiler=compiler, result=result)\n"
     ]
    }
   ],
   "source": [
    "# Renamed data from title.ratings.tsv.gz->data.tsv\n",
    "ratings = pd.read_csv('../cogs108_data/ratings.tsv',delimiter='\\t')\n",
    "# Renamed data from title.basics.tsv.gz->data.tsv\n",
    "basics = pd.read_csv('../cogs108_data/basics.tsv', delimiter='\\t')"
   ]
  },
  {
   "cell_type": "code",
   "execution_count": 48,
   "metadata": {
    "collapsed": true
   },
   "outputs": [],
   "source": [
    "# Remove all things that arent movies\n",
    "basics = basics[basics['titleType'] == \"movie\"]\n",
    "# Remove all adult titles\n",
    "basics = basics[basics['isAdult'] == 0]\n",
    "# Remove unnecessary columns\n",
    "basics = basics.drop(['titleType','originalTitle','isAdult','startYear','endYear','runtimeMinutes','genres'],axis=1)"
   ]
  },
  {
   "cell_type": "code",
   "execution_count": 49,
   "metadata": {
    "collapsed": true
   },
   "outputs": [],
   "source": [
    "# Do a inner join on movies that have both ratings and basic info\n",
    "ratings_df = pd.merge(basics, ratings, on='tconst', how='inner')"
   ]
  },
  {
   "cell_type": "code",
   "execution_count": 50,
   "metadata": {},
   "outputs": [],
   "source": [
    "# Add a new column with weighted ratings based on minimum votes\n",
    "minVote = 30000\n",
    "\n",
    "# Scroll down to the bottom of the following link to check how the weighted rating was calculated\n",
    "# https://help.imdb.com/article/imdb/track-movies-tv/faq-for-imdb-ratings/G67Y87TFYYP6TWAV?ref_=helpsect_pro_2_4#\n",
    "ratings_df = ratings_df.assign(weighted_ratings=((ratings_df['numVotes']/(ratings_df['numVotes']+minVote))*ratings_df['averageRating'])+(minVote/(ratings_df['numVotes']+minVote))*ratings_df['averageRating'].mean())\n",
    "# Standardize movie names\n",
    "ratings_df['primaryTitle']=ratings_df['primaryTitle'].str.strip()\n",
    "ratings_df['primaryTitle']=ratings_df['primaryTitle'].str.lower()\n",
    "\n",
    "\n",
    "ratings_df.rename(index=str, columns={\"tconst\": \"imdb_id\"}, inplace=True)\n",
    "\n",
    "\n",
    "# Remove the comment below to see the weighted ratings DF\n",
    "# df.sort_values(by=['weighted_ratings'], ascending=False)"
   ]
  },
  {
   "cell_type": "markdown",
   "metadata": {},
   "source": [
    "Now let's get the other quantitative measures for movies, such as budget and revenue. We can then combine both dataframes on the IMDB ID to start our analysis."
   ]
  },
  {
   "cell_type": "code",
   "execution_count": 51,
   "metadata": {},
   "outputs": [
    {
     "name": "stderr",
     "output_type": "stream",
     "text": [
      "/anaconda3/lib/python3.6/site-packages/IPython/core/interactiveshell.py:2698: DtypeWarning: Columns (10) have mixed types. Specify dtype option on import or set low_memory=False.\n",
      "  interactivity=interactivity, compiler=compiler, result=result)\n"
     ]
    }
   ],
   "source": [
    "budget_df = pd.read_csv(\"../cogs108_data/movies_metadata.csv\")\n",
    "\n",
    "# Cleaning up the dataset for some useful analysis on budget since it contains A LOT of information\n",
    "budget_df.drop([\"adult\", \"belongs_to_collection\", \"genres\", \"homepage\", \"id\", \"original_language\", \"runtime\", \n",
    "                \"spoken_languages\", \"status\", \"tagline\", \"poster_path\", \"production_countries\", \n",
    "                \"original_title\", \"overview\", \"video\"], inplace = True, axis=1)\n",
    "\n",
    "\n",
    "# Strip whitespace and tolower for consistency\n",
    "budget_df[\"title\"]=budget_df[\"title\"].str.strip()\n",
    "budget_df[\"title\"]=budget_df[\"title\"].str.lower()"
   ]
  },
  {
   "cell_type": "code",
   "execution_count": 52,
   "metadata": {
    "collapsed": true
   },
   "outputs": [],
   "source": [
    "# This function will be used to change some of the columns since some of them are numbers but as strings\n",
    "def convertToInt(string):\n",
    "    return int(string)"
   ]
  },
  {
   "cell_type": "code",
   "execution_count": 53,
   "metadata": {},
   "outputs": [
    {
     "name": "stdout",
     "output_type": "stream",
     "text": [
      "Shape before cleaning - (45466, 9)\n",
      "Shape after cleaning - (5381, 9)\n"
     ]
    }
   ],
   "source": [
    "# Now we need to start cleaning our data because there are some incorrect inputs and \n",
    "# a lot of rows with missing budget and revenue information\n",
    "print(\"Shape before cleaning - \" + str(budget_df.shape))\n",
    "budget_df = budget_df[(budget_df[\"budget\"] != \"0\")]\n",
    "budget_df = budget_df[(budget_df[\"revenue\"] != 0)]\n",
    "\n",
    "# For some reason the following rows were completely messed up so we have to remove them\n",
    "budget_df = budget_df[(budget_df[\"budget\"] != \"/ff9qCepilowshEtG2GYWwzt2bs4.jpg\")]\n",
    "budget_df = budget_df[(budget_df[\"budget\"] != \"/zV8bHuSL6WXoD6FWogP9j4x80bL.jpg\")]\n",
    "budget_df = budget_df[(budget_df[\"budget\"] != \"/zaSf5OG7V8X8gqFvly88zDdRm46.jpg\")]\n",
    "\n",
    "print(\"Shape after cleaning - \" + str(budget_df.shape))"
   ]
  },
  {
   "cell_type": "code",
   "execution_count": 54,
   "metadata": {},
   "outputs": [],
   "source": [
    "# Now let's go ahead and apply the function we made earlier and now combine our dataframes\n",
    "budget_df[\"budget\"] = budget_df[\"budget\"].apply(convertToInt)\n",
    "combined_df = pd.merge(ratings_df, budget_df, on=\"imdb_id\")\n",
    "\n",
    "combined_df.drop([\"primaryTitle\", \"popularity\", \"production_companies\"], axis=1, inplace=True)\n",
    "\n",
    "\n",
    "# Uncomment the following line to see the new DF\n",
    "# combined_df\n"
   ]
  },
  {
   "cell_type": "code",
   "execution_count": 55,
   "metadata": {},
   "outputs": [
    {
     "data": {
      "text/plain": [
       "<matplotlib.collections.PathCollection at 0x1c5c898d68>"
      ]
     },
     "execution_count": 55,
     "metadata": {},
     "output_type": "execute_result"
    },
    {
     "data": {
      "image/png": "[encoded data removed]",
      "text/plain": [
       "<matplotlib.figure.Figure at 0x1c41f3d438>"
      ]
     },
     "metadata": {},
     "output_type": "display_data"
    }
   ],
   "source": [
    "plt.scatter(combined_df.budget, combined_df.revenue)"
   ]
  },
  {
   "cell_type": "markdown",
   "metadata": {},
   "source": [
    "It's somewhat hard to see any sort of relationship with this graph because of the numbers. To try to see anything interesting we'll go ahead and apply a log transformation to both the budget and revenue."
   ]
  },
  {
   "cell_type": "code",
   "execution_count": 56,
   "metadata": {},
   "outputs": [
    {
     "data": {
      "text/plain": [
       "<matplotlib.collections.PathCollection at 0x1c5a06dcc0>"
      ]
     },
     "execution_count": 56,
     "metadata": {},
     "output_type": "execute_result"
    },
    {
     "data": {
      "image/png": "[encoded data removed]",
      "text/plain": [
       "<matplotlib.figure.Figure at 0x1c41f6fef0>"
      ]
     },
     "metadata": {},
     "output_type": "display_data"
    }
   ],
   "source": [
    "combined_df[\"budget\"] = np.log10(combined_df[\"budget\"])\n",
    "combined_df[\"revenue\"] = np.log10(combined_df[\"revenue\"])\n",
    "\n",
    "#Scatter after log transform\n",
    "plt.scatter(combined_df.budget, combined_df.revenue)"
   ]
  },
  {
   "cell_type": "markdown",
   "metadata": {},
   "source": [
    "Now we can definitely see that there is some sort of correlation between the budget that a movie receives and the revenue that it earns. We can see that there is this general positive trend where a movie that has a higher budget earns more revenue. This makes sense since a higher budget usually means higher faith in the outcome by the company funding the movie.\n",
    "\n",
    "We do notice that this is not a perfect correlation, however. Just because a movie receives a high budget does not mean that is guaranteed to do well. The opposite of this is also true. "
   ]
  },
  {
   "cell_type": "code",
   "execution_count": 57,
   "metadata": {
    "collapsed": true
   },
   "outputs": [],
   "source": [
    "# We have to create the following function if we want to do any more useful analysis with the budget and revenue\n",
    "def revertLog(input):\n",
    "    return np.float_power(10, input)\n",
    "\n",
    "\n",
    "combined_df[\"budget\"] = combined_df[\"budget\"].apply(revertLog)\n",
    "combined_df[\"revenue\"] = combined_df[\"revenue\"].apply(revertLog)"
   ]
  },
  {
   "cell_type": "markdown",
   "metadata": {},
   "source": [
    "Now that we've seen that there is a correlation between a movie's budget and its revenue, we want to ask if there are any other factors that indicate a movie will do well financially. Another characteristic that we may want to consider is the time of the year that a movie does well. It may be possible that movies that are released in a certain part of the year are more likely to generate more revenue than others."
   ]
  },
  {
   "cell_type": "code",
   "execution_count": 58,
   "metadata": {},
   "outputs": [
    {
     "data": {
      "text/plain": [
       "<matplotlib.collections.PathCollection at 0x1c573b0f28>"
      ]
     },
     "execution_count": 58,
     "metadata": {},
     "output_type": "execute_result"
    },
    {
     "data": {
      "image/png": "[encoded data removed]",
      "text/plain": [
       "<matplotlib.figure.Figure at 0x1c69d36908>"
      ]
     },
     "metadata": {},
     "output_type": "display_data"
    }
   ],
   "source": [
    "# Strip whitespace and tolower for consistency\n",
    "combined_df[\"title\"]=combined_df[\"title\"].str.strip()\n",
    "combined_df[\"title\"]=combined_df[\"title\"].str.lower()\n",
    "\n",
    "\n",
    "# We have to create ths new column age so we can specify which movies we want to use. Since this dataset\n",
    "# includes a large number of movies and since the trend in watching movies has changed, we only want \n",
    "# to consider a subset for certain analysis.\n",
    "combined_df[\"age\"] = 0\n",
    "    \n",
    "for index, row in combined_df.iterrows():\n",
    "    year = int(row[\"release_date\"][0:4])\n",
    "    combined_df.set_value(index,'age', (2017 - year))\n",
    "\n",
    "# Here we will only be considering movies released in the past 10 years\n",
    "smaller_combined_df = combined_df[combined_df[\"age\"] < 10]\n",
    "\n",
    "# We section of the timeline by month\n",
    "for index, row in smaller_combined_df.iterrows():\n",
    "    month = int(row[\"release_date\"][5:7])\n",
    "    smaller_combined_df.set_value(index, \"release_date\", month)\n",
    "    \n",
    "    \n",
    "plt.scatter(smaller_combined_df.release_date, smaller_combined_df.revenue)"
   ]
  },
  {
   "cell_type": "markdown",
   "metadata": {},
   "source": [
    "We can see that there's some sort of relationship between month of release and revenue....maybe? It seems like there is some sort of fluctuations, but it's hard to tell exactly what that is. To help us see this trend, we can average out the revenue per month over these movies and display those."
   ]
  },
  {
   "cell_type": "code",
   "execution_count": 60,
   "metadata": {},
   "outputs": [
    {
     "data": {
      "text/plain": [
       "<Container object of 12 artists>"
      ]
     },
     "execution_count": 60,
     "metadata": {},
     "output_type": "execute_result"
    },
    {
     "data": {
      "image/png": "[encoded data removed]",
      "text/plain": [
       "<matplotlib.figure.Figure at 0x1c4cc4a160>"
      ]
     },
     "metadata": {},
     "output_type": "display_data"
    }
   ],
   "source": [
    "temp_frame = None\n",
    "months = list()\n",
    "averages = list()\n",
    "\n",
    "# Loop that gets the averages for each month\n",
    "for i in range (1,13):\n",
    "    temp_frame = smaller_combined_df[smaller_combined_df[\"release_date\"] == i]\n",
    "    averages.append(temp_frame[\"revenue\"].mean())\n",
    "    months.append(i)\n",
    "\n",
    "\n",
    "plt.bar(months, averages)"
   ]
  },
  {
   "cell_type": "markdown",
   "metadata": {},
   "source": [
    "Now that we took the averages, we can definitely see a trend. It looks like movies that are released in the \n",
    "April - July area are likely to earn more revenue than other months. This does seem consistent with the fact that\n",
    "many more people (like students) have more time during these summer months. As a result, these people are likely \n",
    "to see more movies during this period. To confirm this, however, we would probably need to do a bigger analysis \n",
    "with more data.\n",
    "\n",
    "Up until this point we have considered only revenue as a measure of success for a movie. Although this is \n",
    "important to the movie industry, there is also another important factor to consider: ratings. Movies that are\n",
    "rated much more highly are usually praised by many people. As a result, we can use ratings to measure the \n",
    "critical success of a movie. We can begin by using the same variables that we did for revenue: budget \n",
    "and month of release."
   ]
  },
  {
   "cell_type": "code",
   "execution_count": 61,
   "metadata": {},
   "outputs": [
    {
     "data": {
      "text/plain": [
       "<matplotlib.collections.PathCollection at 0x1c670784e0>"
      ]
     },
     "execution_count": 61,
     "metadata": {},
     "output_type": "execute_result"
    },
    {
     "data": {
      "image/png": "[encoded data removed]",
      "text/plain": [
       "<matplotlib.figure.Figure at 0x1c560d9320>"
      ]
     },
     "metadata": {},
     "output_type": "display_data"
    }
   ],
   "source": [
    "plt.scatter(combined_df.budget, combined_df.weighted_ratings)"
   ]
  },
  {
   "cell_type": "code",
   "execution_count": 62,
   "metadata": {},
   "outputs": [
    {
     "data": {
      "text/plain": [
       "<matplotlib.collections.PathCollection at 0x1c4103f780>"
      ]
     },
     "execution_count": 62,
     "metadata": {},
     "output_type": "execute_result"
    },
    {
     "data": {
      "image/png": "[encoded data removed]",
      "text/plain": [
       "<matplotlib.figure.Figure at 0x1c6713e3c8>"
      ]
     },
     "metadata": {},
     "output_type": "display_data"
    }
   ],
   "source": [
    "plt.scatter(smaller_combined_df.release_date, smaller_combined_df.weighted_ratings)"
   ]
  },
  {
   "cell_type": "code",
   "execution_count": 66,
   "metadata": {},
   "outputs": [
    {
     "data": {
      "text/plain": [
       "<Container object of 12 artists>"
      ]
     },
     "execution_count": 66,
     "metadata": {},
     "output_type": "execute_result"
    },
    {
     "data": {
      "image/png": "[encoded data removed]",
      "text/plain": [
       "<matplotlib.figure.Figure at 0x1c61305b00>"
      ]
     },
     "metadata": {},
     "output_type": "display_data"
    }
   ],
   "source": [
    "temp_frame = None\n",
    "months = list()\n",
    "averages = list()\n",
    "for i in range (1,13):\n",
    "    temp_frame = smaller_combined_df[smaller_combined_df[\"release_date\"] == i]\n",
    "    averages.append(temp_frame[\"weighted_ratings\"].mean())\n",
    "    months.append(i)\n",
    "\n",
    "\n",
    "plt.bar(months, averages)"
   ]
  },
  {
   "cell_type": "code",
   "execution_count": null,
   "metadata": {
    "collapsed": true
   },
   "outputs": [],
   "source": []
  }
 ],
 "metadata": {
  "kernelspec": {
   "display_name": "Python 3",
   "language": "python",
   "name": "python3"
  },
  "language_info": {
   "codemirror_mode": {
    "name": "ipython",
    "version": 3
   },
   "file_extension": ".py",
   "mimetype": "text/x-python",
   "name": "python",
   "nbconvert_exporter": "python",
   "pygments_lexer": "ipython3",
   "version": "3.6.3"
  }
 },
 "nbformat": 4,
 "nbformat_minor": 2
}
