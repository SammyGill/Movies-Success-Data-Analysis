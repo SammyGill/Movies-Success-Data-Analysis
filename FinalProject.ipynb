{
 "cells": [
  {
   "cell_type": "code",
   "execution_count": 1,
   "metadata": {},
   "outputs": [
    {
     "name": "stderr",
     "output_type": "stream",
     "text": [
      "C:\\Users\\Sammy Gill\\Anaconda3\\lib\\site-packages\\statsmodels\\compat\\pandas.py:56: FutureWarning: The pandas.core.datetools module is deprecated and will be removed in a future version. Please use the pandas.tseries module instead.\n",
      "  from pandas.core import datetools\n"
     ]
    }
   ],
   "source": [
    "# Imports for project\n",
    "\n",
    "%matplotlib inline\n",
    "%config InlineBackend.figure_format = 'retina'\n",
    "\n",
    "import numpy as np\n",
    "import pandas as pd\n",
    "import matplotlib.pyplot as plt\n",
    "\n",
    "import patsy\n",
    "import statsmodels.api as sm\n",
    "import scipy.stats as stats\n",
    "from scipy.stats import ttest_ind, chisquare, normaltest\n",
    "from sklearn.ensemble import RandomForestClassifier\n",
    "from sklearn.model_selection import GridSearchCV"
   ]
  },
  {
   "cell_type": "markdown",
   "metadata": {},
   "source": [
    "<b> Group Members </b>\n",
    "\n",
    "Miguel Garcia \n",
    "\n",
    "Alan Su \n",
    "\n",
    "Madeleine Appelmans \n",
    "\n",
    "Simran Gill \n",
    "\n",
    "Kevin Yu \n"
   ]
  },
  {
   "cell_type": "markdown",
   "metadata": {},
   "source": [
    "# Background and Information"
   ]
  },
  {
   "cell_type": "markdown",
   "metadata": {},
   "source": [
    "Every week a new movie is realeased into theaters throughout the world. Movies have grown to become a giant industry as well as an entertainment phenomenon. At the end of each movie season there are also a series of awards shows the honor the successes of various films released throughout the year. Our goal in this analysis is to see if there are any observable characteristics of movies that allow us to predict their financial and critical success. We define financial success as the amount of revenue a movie earns and its critical success as its ratings. After this is done, we will also see if we can somehow analyze these characteristics to determine if we can predict the awards given out at the Oscars. This will be done using a Random Forst machine learning algorithm.\n",
    "\n",
    "We predict that there will be certain characteristics that strongly correlate with the amount of revenue that a movie will earn. However, we also predict that this will not be the case with the movie's ratings, because it most likely takes more than these observable characteristics to determine its rating. With the same reasoning, we also believe it will be difficult to create a machine learning model that predicts the oscars."
   ]
  },
  {
   "cell_type": "markdown",
   "metadata": {},
   "source": [
    "# Data Preprocessing and Cleaning"
   ]
  },
  {
   "cell_type": "markdown",
   "metadata": {},
   "source": [
    "In this analysis, we used two data sets, \"The Movies Dataset,\" and the \"IMDB database.\" \n",
    "\n",
    "Dataset Name: The Movies Dataset\n",
    "\n",
    "Link to the dataset: https://www.kaggle.com/rounakbanik/the-movies-dataset\n",
    "Number of observations: 45,000 This dataset contains a lot of metadata, including genre, budget, revenue, and much more. We will not be using all of the provided information (e.g. link to poster), as they are not relavent to our analysis. We also found out (as mentioned later throughout the analysis), that there were lots of missing pieces of data. For example, many of the movies did not contain budget and revenue information. Since there were so many of these, we had to remove them from our analysis as they would skew some of our data.\n",
    "\n",
    "Dataset Name: The IMDB database\n",
    "\n",
    "Link to the dataset: https://datasets.imdbws.com/\n",
    "Number of observations: 20,000,000+ IMDB keeps up to date datasets that include basic information, crew information, episode information, principal cast information, ratings information, and individual-specific information. The interfaces of each dataset is clearly documented here: http://www.imdb.com/interfaces/ There are movies from 1874-2025 and information about people all across the movie industry.\n",
    "\n",
    "Dataset Name: The Academy Awards dataset\n",
    "\n",
    "Link to the dataset: https://www.kaggle.com/theacademy/academy-awards\n",
    "This dataset contains all the winners of academies awards up to and including 2015"
   ]
  },
  {
   "cell_type": "markdown",
   "metadata": {},
   "source": [
    "# How to get access to the data files"
   ]
  },
  {
   "cell_type": "markdown",
   "metadata": {},
   "source": [
    "We've compiled all the data to a google drive under the link:<br>\n",
    "https://drive.google.com/drive/folders/1Z9bpVQXuOASe5yyrzX0TOnXfwUMEa46N?usp=sharing<br>\n",
    "\n",
    "1) Download the data files <br>\n",
    "2) Place in a directory named 'cogs108_data' <br>\n",
    "3) Keep 'cogs108_data' in the same directory as this file"
   ]
  },
  {
   "cell_type": "markdown",
   "metadata": {},
   "source": [
    "# Privacy/Ethics Considerations"
   ]
  },
  {
   "cell_type": "markdown",
   "metadata": {},
   "source": [
    "In terms of Ethics and Privacy, we didn’t come across any issues. A lot of the data has already been collected and contains little to no information on any individuals, as they are all based around movies. All of the data we collected and scraped was already publicly available from various sources. As for ethical concerns, we don’t believe that any conclusions we draw from analysing movie data would cause any kind of serious lasting harm. \n"
   ]
  },
  {
   "cell_type": "markdown",
   "metadata": {},
   "source": [
    "# Part 1 - Analysis of Financial and Critical Success"
   ]
  },
  {
   "cell_type": "markdown",
   "metadata": {},
   "source": [
    "Our goal is to see if we can find any characteristics of a movie that can help predict its financial and critical success. For our case, we will define financial success as the revenue earned and critical success as the weighted ratings from IMDB. First we need to gather the data sets that we will be using and creating the data frame. We'll begin by creating a dataframe with the weighted ratings from movies since IMDB only provides the formula used and not the dataset itself."
   ]
  },
  {
   "cell_type": "code",
   "execution_count": 3,
   "metadata": {},
   "outputs": [
    {
     "name": "stderr",
     "output_type": "stream",
     "text": [
      "C:\\Users\\Sammy Gill\\Anaconda3\\lib\\site-packages\\IPython\\core\\interactiveshell.py:2728: DtypeWarning: Columns (5) have mixed types. Specify dtype option on import or set low_memory=False.\n",
      "  interactivity=interactivity, compiler=compiler, result=result)\n"
     ]
    }
   ],
   "source": [
    "# Renamed data from title.ratings.tsv.gz->data.tsv\n",
    "ratings = pd.read_csv('cogs108_data/ratings.tsv',delimiter='\\t')\n",
    "# Renamed data from title.basics.tsv.gz->data.tsv\n",
    "basics = pd.read_csv('cogs108_data/basics.tsv', delimiter='\\t')"
   ]
  },
  {
   "cell_type": "code",
   "execution_count": null,
   "metadata": {
    "collapsed": true
   },
   "outputs": [],
   "source": [
    "# Remove all things that arent movies\n",
    "basics = basics[basics['titleType'] == \"movie\"]\n",
    "# Remove all adult titles\n",
    "basics = basics[basics['isAdult'] == 0]\n",
    "# Remove unnecessary columns\n",
    "basics = basics.drop(['titleType','originalTitle','isAdult','startYear','endYear','runtimeMinutes','genres'],axis=1)"
   ]
  },
  {
   "cell_type": "code",
   "execution_count": null,
   "metadata": {
    "collapsed": true
   },
   "outputs": [],
   "source": [
    "# Do a inner join on movies that have both ratings and basic info\n",
    "ratings_df = pd.merge(basics, ratings, on='tconst', how='inner')"
   ]
  },
  {
   "cell_type": "code",
   "execution_count": null,
   "metadata": {
    "collapsed": true
   },
   "outputs": [],
   "source": [
    "# Add a new column with weighted ratings based on minimum votes\n",
    "minVote = 30000\n",
    "\n",
    "# Scroll down to the bottom of the following link to check how the weighted rating was calculated\n",
    "# https://help.imdb.com/article/imdb/track-movies-tv/faq-for-imdb-ratings/G67Y87TFYYP6TWAV?ref_=helpsect_pro_2_4#\n",
    "ratings_df = ratings_df.assign(weighted_ratings=((ratings_df['numVotes']/(ratings_df['numVotes']+minVote))*ratings_df['averageRating'])+(minVote/(ratings_df['numVotes']+minVote))*ratings_df['averageRating'].mean())\n",
    "# Standardize movie names\n",
    "ratings_df['primaryTitle']=ratings_df['primaryTitle'].str.strip()\n",
    "ratings_df['primaryTitle']=ratings_df['primaryTitle'].str.lower()\n",
    "\n",
    "\n",
    "ratings_df.rename(index=str, columns={\"tconst\": \"imdb_id\"}, inplace=True)\n",
    "\n",
    "\n",
    "# Remove the comment below to see the weighted ratings DF\n",
    "# df.sort_values(by=['weighted_ratings'], ascending=False)"
   ]
  },
  {
   "cell_type": "markdown",
   "metadata": {},
   "source": [
    "Now let's get the other quantitative measures for movies, such as budget and revenue. We can then combine both dataframes on the IMDB ID to start our analysis."
   ]
  },
  {
   "cell_type": "code",
   "execution_count": null,
   "metadata": {
    "collapsed": true
   },
   "outputs": [],
   "source": [
    "budget_df = pd.read_csv(\"cogs108_data/movies_metadata.csv\")\n",
    "\n",
    "# Cleaning up the dataset for some useful analysis on budget since it contains A LOT of information\n",
    "budget_df.drop([\"adult\", \"belongs_to_collection\", \"genres\", \"homepage\", \"id\", \"original_language\", \"runtime\", \n",
    "                \"spoken_languages\", \"status\", \"tagline\", \"poster_path\", \"production_countries\", \n",
    "                \"original_title\", \"overview\", \"video\"], inplace = True, axis=1)\n",
    "\n",
    "\n",
    "# Strip whitespace and tolower for consistency\n",
    "budget_df[\"title\"]=budget_df[\"title\"].str.strip()\n",
    "budget_df[\"title\"]=budget_df[\"title\"].str.lower()"
   ]
  },
  {
   "cell_type": "code",
   "execution_count": null,
   "metadata": {
    "collapsed": true
   },
   "outputs": [],
   "source": [
    "# This function will be used to change some of the columns since some of them are numbers but as strings\n",
    "def convertToInt(string):\n",
    "    return int(string)"
   ]
  },
  {
   "cell_type": "code",
   "execution_count": null,
   "metadata": {
    "collapsed": true
   },
   "outputs": [],
   "source": [
    "# Now we need to start cleaning our data because there are some incorrect inputs and \n",
    "# a lot of rows with missing budget and revenue information\n",
    "print(\"Shape before cleaning - \" + str(budget_df.shape))\n",
    "budget_df = budget_df[(budget_df[\"budget\"] != \"0\")]\n",
    "budget_df = budget_df[(budget_df[\"revenue\"] != 0)]\n",
    "\n",
    "# For some reason the following rows were completely messed up so we have to remove them\n",
    "budget_df = budget_df[(budget_df[\"budget\"] != \"/ff9qCepilowshEtG2GYWwzt2bs4.jpg\")]\n",
    "budget_df = budget_df[(budget_df[\"budget\"] != \"/zV8bHuSL6WXoD6FWogP9j4x80bL.jpg\")]\n",
    "budget_df = budget_df[(budget_df[\"budget\"] != \"/zaSf5OG7V8X8gqFvly88zDdRm46.jpg\")]\n",
    "\n",
    "print(\"Shape after cleaning - \" + str(budget_df.shape))"
   ]
  },
  {
   "cell_type": "code",
   "execution_count": null,
   "metadata": {
    "collapsed": true
   },
   "outputs": [],
   "source": [
    "# Now let's go ahead and apply the function we made earlier and now combine our dataframes\n",
    "budget_df[\"budget\"] = budget_df[\"budget\"].apply(convertToInt)\n",
    "combined_df = pd.merge(ratings_df, budget_df, on=\"imdb_id\")\n",
    "\n",
    "combined_df.drop([\"primaryTitle\", \"popularity\", \"production_companies\"], axis=1, inplace=True)\n",
    "\n",
    "\n",
    "# Uncomment the following line to see the new DF\n",
    "# combined_df\n"
   ]
  },
  {
   "cell_type": "code",
   "execution_count": null,
   "metadata": {
    "collapsed": true
   },
   "outputs": [],
   "source": [
    "plt.scatter(combined_df.budget, combined_df.revenue)"
   ]
  },
  {
   "cell_type": "markdown",
   "metadata": {},
   "source": [
    "It's somewhat hard to see any sort of relationship with this graph because of the numbers. To try to see anything interesting we'll go ahead and apply a log transformation to both the budget and revenue."
   ]
  },
  {
   "cell_type": "code",
   "execution_count": null,
   "metadata": {
    "collapsed": true
   },
   "outputs": [],
   "source": [
    "combined_df[\"budget\"] = np.log10(combined_df[\"budget\"])\n",
    "combined_df[\"revenue\"] = np.log10(combined_df[\"revenue\"])\n",
    "\n",
    "#Scatter after log transform\n",
    "plt.scatter(combined_df.budget, combined_df.revenue)"
   ]
  },
  {
   "cell_type": "markdown",
   "metadata": {},
   "source": [
    "Now we can definitely see that there is some sort of correlation between the budget that a movie receives and the revenue that it earns. We can see that there is this general positive trend where a movie that has a higher budget earns more revenue. This makes sense since a higher budget usually means higher faith in the outcome by the company funding the movie.\n",
    "\n",
    "We do notice that this is not a perfect correlation, however. Just because a movie receives a high budget does not mean that is guaranteed to do well. The opposite of this is also true. "
   ]
  },
  {
   "cell_type": "code",
   "execution_count": null,
   "metadata": {
    "collapsed": true
   },
   "outputs": [],
   "source": [
    "# We have to create the following function if we want to do any more useful analysis with the budget and revenue\n",
    "def revertLog(input):\n",
    "    return np.float_power(10, input)\n",
    "\n",
    "\n",
    "combined_df[\"budget\"] = combined_df[\"budget\"].apply(revertLog)\n",
    "combined_df[\"revenue\"] = combined_df[\"revenue\"].apply(revertLog)"
   ]
  },
  {
   "cell_type": "markdown",
   "metadata": {},
   "source": [
    "Now that we've seen that there is a correlation between a movie's budget and its revenue, we want to ask if there are any other factors that indicate a movie will do well financially. Another characteristic that we may want to consider is the time of the year that a movie does well. It may be possible that movies that are released in a certain part of the year are more likely to generate more revenue than others."
   ]
  },
  {
   "cell_type": "code",
   "execution_count": null,
   "metadata": {
    "collapsed": true
   },
   "outputs": [],
   "source": [
    "# Strip whitespace and tolower for consistency\n",
    "combined_df[\"title\"]=combined_df[\"title\"].str.strip()\n",
    "combined_df[\"title\"]=combined_df[\"title\"].str.lower()\n",
    "\n",
    "\n",
    "# We have to create ths new column age so we can specify which movies we want to use. Since this dataset\n",
    "# includes a large number of movies and since the trend in watching movies has changed, we only want \n",
    "# to consider a subset for certain analysis.\n",
    "combined_df[\"age\"] = 0\n",
    "    \n",
    "for index, row in combined_df.iterrows():\n",
    "    year = int(row[\"release_date\"][0:4])\n",
    "    combined_df.set_value(index,'age', (2017 - year))\n",
    "\n",
    "# Here we will only be considering movies released in the past 10 years\n",
    "smaller_combined_df = combined_df[combined_df[\"age\"] < 10]\n",
    "\n",
    "# We section of the timeline by month\n",
    "for index, row in smaller_combined_df.iterrows():\n",
    "    month = int(row[\"release_date\"][5:7])\n",
    "    smaller_combined_df.set_value(index, \"release_date\", month)\n",
    "    \n",
    "    \n",
    "plt.scatter(smaller_combined_df.release_date, smaller_combined_df.revenue)"
   ]
  },
  {
   "cell_type": "markdown",
   "metadata": {},
   "source": [
    "We can see that there's some sort of relationship between month of release and revenue....maybe? It seems like there is some sort of fluctuations, but it's hard to tell exactly what that is. To help us see this trend, we can average out the revenue per month over these movies and display those."
   ]
  },
  {
   "cell_type": "code",
   "execution_count": null,
   "metadata": {
    "collapsed": true
   },
   "outputs": [],
   "source": [
    "temp_frame = None\n",
    "months = list()\n",
    "averages = list()\n",
    "\n",
    "# Loop that gets the averages for each month\n",
    "for i in range (1,13):\n",
    "    temp_frame = smaller_combined_df[smaller_combined_df[\"release_date\"] == i]\n",
    "    averages.append(temp_frame[\"revenue\"].mean())\n",
    "    months.append(i)\n",
    "\n",
    "\n",
    "plt.bar(months, averages)"
   ]
  },
  {
   "cell_type": "markdown",
   "metadata": {},
   "source": [
    "Now that we took the averages, we can definitely see a trend. It looks like movies that are released in the \n",
    "April - July area are likely to earn more revenue than other months. This does seem consistent with the fact that\n",
    "many more people (like students) have more time during these summer months. As a result, these people are likely \n",
    "to see more movies during this period. To confirm this, however, we would probably need to do a bigger analysis \n",
    "with more data.\n",
    "\n",
    "Up until this point we have considered only revenue as a measure of success for a movie. Although this is \n",
    "important to the movie industry, there is also another important factor to consider: ratings. Movies that are\n",
    "rated much more highly are usually praised by many people. As a result, we can use ratings to measure the \n",
    "critical success of a movie. We can begin by using the same variables that we did for revenue: budget \n",
    "and month of release."
   ]
  },
  {
   "cell_type": "code",
   "execution_count": null,
   "metadata": {
    "collapsed": true
   },
   "outputs": [],
   "source": [
    "plt.scatter(combined_df.budget, combined_df.weighted_ratings)"
   ]
  },
  {
   "cell_type": "code",
   "execution_count": null,
   "metadata": {
    "collapsed": true
   },
   "outputs": [],
   "source": [
    "plt.scatter(smaller_combined_df.release_date, smaller_combined_df.weighted_ratings)"
   ]
  },
  {
   "cell_type": "code",
   "execution_count": null,
   "metadata": {
    "collapsed": true
   },
   "outputs": [],
   "source": [
    "temp_frame = None\n",
    "months = list()\n",
    "averages = list()\n",
    "for i in range (1,13):\n",
    "    temp_frame = smaller_combined_df[smaller_combined_df[\"release_date\"] == i]\n",
    "    averages.append(temp_frame[\"weighted_ratings\"].mean())\n",
    "    months.append(i)\n",
    "\n",
    "\n",
    "plt.bar(months, averages)"
   ]
  },
  {
   "cell_type": "markdown",
   "metadata": {},
   "source": [
    "So, unlike revenue and the release month, it seems like there is no relationship between the ratings of a movie and its release month. That is, there is no bias for a movie to get a higher rating released at one particular month when compared to another. This makes sense with the fact that the rating a movie gets is based on its qualities and is difficult to influence by outside factors."
   ]
  },
  {
   "cell_type": "markdown",
   "metadata": {},
   "source": [
    "## Director Analysis"
   ]
  },
  {
   "cell_type": "markdown",
   "metadata": {},
   "source": [
    "Now we are going to take a slight detours with our analysis. As we were going through the analysis with budgets, revenues, and ratings, we noticed some interesting traits among the directors. In this small subsection of the notebook, we take a look at how the director of a movie relates to the budget of a movie as well as the revenue. We also explore the differences between male and female directors in this regard."
   ]
  },
  {
   "cell_type": "code",
   "execution_count": null,
   "metadata": {
    "collapsed": true
   },
   "outputs": [],
   "source": [
    "# Read in the dataset to a pandas dataframe\n",
    "metadata = pd.read_csv('cogs108_data/movies_metadata.csv')\n",
    "credits = pd.read_csv('cogs108_data/credits.csv')"
   ]
  },
  {
   "cell_type": "code",
   "execution_count": null,
   "metadata": {
    "collapsed": true
   },
   "outputs": [],
   "source": [
    "# Remove cast column in credits\n",
    "credits = credits.drop('cast', axis=1)"
   ]
  },
  {
   "cell_type": "code",
   "execution_count": null,
   "metadata": {
    "collapsed": true
   },
   "outputs": [],
   "source": [
    "# This function takes a string element from the crew column and returns the\n",
    "# name of the director\n",
    "def getDirector(row):\n",
    "    start = row.find(\"\\'Director\\'\")\n",
    "    nameBegin = row[start:len(row)].find(\"\\'name\\': \\'\")\n",
    "    number = len(\"\\'name\\': \\'\")\n",
    "    nameEnd = row[start+nameBegin + number:len(row)].find(\"\\'\")\n",
    "    name = row[start+nameBegin + number:start+nameBegin + number + nameEnd]\n",
    "    if len(name) == 0:\n",
    "        return '0'\n",
    "    return name\n",
    "    "
   ]
  },
  {
   "cell_type": "code",
   "execution_count": null,
   "metadata": {
    "collapsed": true
   },
   "outputs": [],
   "source": [
    "# Function parses the gender of the director\n",
    "def getDirectorGender(row):\n",
    "    end = row.find('Director')\n",
    "    start = row[0:end].rfind('\\'gender\\': ')\n",
    "    gender = row[start + len('\\'gender\\': '): start + len('\\'gender\\': ') + 1]\n",
    "    if len(gender) == 0:\n",
    "        return -1\n",
    "    return gender\n",
    "    "
   ]
  },
  {
   "cell_type": "code",
   "execution_count": null,
   "metadata": {
    "collapsed": true
   },
   "outputs": [],
   "source": [
    "# Creating new columns from the parsed data\n",
    "credits['director'] = credits['crew'].apply(getDirector)\n",
    "credits['gender'] = credits['crew'].apply(getDirectorGender)"
   ]
  },
  {
   "cell_type": "code",
   "execution_count": null,
   "metadata": {
    "collapsed": true
   },
   "outputs": [],
   "source": [
    "# Removing rows that have missing or unknown gender\n",
    "credits = credits[credits['gender'] != -1]\n",
    "credits = credits[credits['gender'] != '0']\n",
    "# Removing rows that have missing director\n",
    "credits = credits[credits['director'] != 'it_id']"
   ]
  },
  {
   "cell_type": "code",
   "execution_count": null,
   "metadata": {
    "collapsed": true
   },
   "outputs": [],
   "source": [
    "# Dropping the now unnecessary crew column\n",
    "credits = credits.drop('crew', axis=1)"
   ]
  },
  {
   "cell_type": "code",
   "execution_count": null,
   "metadata": {
    "collapsed": true
   },
   "outputs": [],
   "source": [
    "# Numbers of each gender in the dataset\n",
    "numFdirectors = sum(credits['gender'] == '1')\n",
    "numMdirectors = sum(credits['gender'] == '2')"
   ]
  },
  {
   "cell_type": "code",
   "execution_count": null,
   "metadata": {
    "collapsed": true
   },
   "outputs": [],
   "source": [
    "y = [numFdirectors, numMdirectors]\n",
    "N = len(y)\n",
    "x = range(N)\n",
    "width = 0.5\n",
    "barlist = plt.bar(x, y, width)\n",
    "plt.suptitle('Number of Female Directors and Male Directors from 1920s to 2000s', fontsize=20, fontweight='bold')\n",
    "plt.ylabel('Number of Directors', fontsize=13)\n",
    "barlist[0].set_color('r')\n",
    "barlist[1].set_color('g')\n",
    "plt.xticks(x, ['Female', 'Male'])\n",
    "plt.show()"
   ]
  },
  {
   "cell_type": "markdown",
   "metadata": {},
   "source": [
    "This graph shows the ratio of female directors to male directors in the movie world. "
   ]
  },
  {
   "cell_type": "code",
   "execution_count": null,
   "metadata": {
    "collapsed": true
   },
   "outputs": [],
   "source": [
    "# Grabbing the ten directors who have made the most movies\n",
    "director_frequency = credits['director'].value_counts()[0:10]"
   ]
  },
  {
   "cell_type": "code",
   "execution_count": null,
   "metadata": {
    "collapsed": true
   },
   "outputs": [],
   "source": [
    "list_of_directors = director_frequency.index.tolist()[::-1]\n",
    "y = director_frequency.tolist()[::-1]\n",
    "N = len(y)\n",
    "x = range(N)\n",
    "width = 0.4\n",
    "barlist = plt.barh(x, y, width, color='g')\n",
    "plt.suptitle('Most Prolific Directors', fontsize=20, fontweight='bold')\n",
    "plt.xlabel('Number of Movies', fontsize=13)\n",
    "plt.yticks(x, list_of_directors)\n",
    "plt.show()"
   ]
  },
  {
   "cell_type": "markdown",
   "metadata": {},
   "source": [
    "This graph shows the ten directors who have made the highest number of films. If you notice however, there are no women on this list. The next graph shows the most prolific female directors for comparison."
   ]
  },
  {
   "cell_type": "code",
   "execution_count": null,
   "metadata": {
    "collapsed": true
   },
   "outputs": [],
   "source": [
    "# Grabbing the ten female directors who have made the most movies\n",
    "female_directors = credits[credits['gender'] == '1']\n",
    "directorF_frequency = female_directors['director'].value_counts()[0:10]"
   ]
  },
  {
   "cell_type": "code",
   "execution_count": null,
   "metadata": {
    "collapsed": true
   },
   "outputs": [],
   "source": [
    "list_of_directorsF = directorF_frequency.index.tolist()[::-1]\n",
    "y = directorF_frequency.tolist()[::-1]\n",
    "N = len(y)\n",
    "x = range(N)\n",
    "width = 0.4\n",
    "barlist = plt.barh(x, y, width, color='r')\n",
    "plt.suptitle('Most Prolific Female Directors', fontsize=20, fontweight='bold')\n",
    "plt.xlim([0, 55])\n",
    "plt.xlabel('Number of Movies', fontsize=13)\n",
    "plt.yticks(x, list_of_directorsF)\n",
    "plt.show()"
   ]
  },
  {
   "cell_type": "markdown",
   "metadata": {},
   "source": [
    "This graph shows the most prolific female directors. Amusingly(or not), the woman with the highest number of films is Michele Lupo. Lupo is actually a man; he was coded wrong in the dataset because his name is usually considered a woman's name in the U.S. You might notice that many of the names on this list do not look western. There are only two Americans on this list, Mira Nair and Martha Coolidge. This suggests that other countries have done a better job of supporting women in leadership roles in the moviemaking industry. In particular, half of these women are French.  I would like to do further research on why France has so many female filmmakers but that is for another project. I did find an article on this subject which can be seen here: https://www.theguardian.com/film/2011/mar/24/france-women-directors"
   ]
  },
  {
   "cell_type": "markdown",
   "metadata": {},
   "source": [
    "## Budget Analysis\n",
    "\n",
    "This upcoming analysis pulls in budget and revenue information. This information is not available for every movie in our dataset so we were only able to analyze ten percent of our original data. This means that the ten most prolific directors change from the previous analysis. It also skews our data toward western directors as the dataset is more likely to have budget information on western films."
   ]
  },
  {
   "cell_type": "code",
   "execution_count": null,
   "metadata": {
    "collapsed": true
   },
   "outputs": [],
   "source": [
    "# Keeping only the relevent columns in movie_metadata dataset\n",
    "new_metadata = metadata[['budget', 'revenue', 'id']]"
   ]
  },
  {
   "cell_type": "code",
   "execution_count": null,
   "metadata": {
    "collapsed": true
   },
   "outputs": [],
   "source": [
    "# Clean movies_metadata Dataframe\n",
    "new_metadata['id'] = new_metadata['id'].apply(pd.to_numeric, errors='coerce')\n",
    "new_metadata = new_metadata[np.isfinite(new_metadata['id'])]"
   ]
  },
  {
   "cell_type": "code",
   "execution_count": null,
   "metadata": {
    "collapsed": true
   },
   "outputs": [],
   "source": [
    "# Merge two datasets\n",
    "direct_df = new_metadata.merge(credits, on='id')"
   ]
  },
  {
   "cell_type": "code",
   "execution_count": null,
   "metadata": {
    "collapsed": true
   },
   "outputs": [],
   "source": [
    "# Turn budget column into numeric data\n",
    "direct_df['budget'] = direct_df['budget'].apply(pd.to_numeric)"
   ]
  },
  {
   "cell_type": "code",
   "execution_count": null,
   "metadata": {
    "collapsed": true
   },
   "outputs": [],
   "source": [
    "# Replace all 0 values with nan\n",
    "direct_df['budget'].replace(0, np.nan, inplace=True)\n",
    "direct_df['revenue'].replace(0, np.nan, inplace=True)"
   ]
  },
  {
   "cell_type": "code",
   "execution_count": null,
   "metadata": {
    "collapsed": true
   },
   "outputs": [],
   "source": [
    "# Drop all nan values\n",
    "direct_df = direct_df.dropna()"
   ]
  },
  {
   "cell_type": "code",
   "execution_count": null,
   "metadata": {
    "collapsed": true
   },
   "outputs": [],
   "source": [
    "# Gets average budget for the 10 most prolific directors\n",
    "mean_budget = list()\n",
    "\n",
    "director_frequency = direct_df['director'].value_counts()[0:10]\n",
    "director_frequency = director_frequency.index.tolist()\n",
    "\n",
    "def get_mean_budget(director):\n",
    "    return np.mean(direct_df[direct_df['director'] == director]['budget'])\n",
    "\n",
    "for i in director_frequency:\n",
    "    mean_budget.append(get_mean_budget(i))\n"
   ]
  },
  {
   "cell_type": "code",
   "execution_count": null,
   "metadata": {
    "collapsed": true
   },
   "outputs": [],
   "source": [
    "# Sort mean budget\n",
    "zipped = zip(director_frequency, mean_budget)\n",
    "sorted_zipped = sorted(zipped, key=lambda x: x[1])\n",
    "director_frequency, mean_budget = zip(*sorted_zipped)"
   ]
  },
  {
   "cell_type": "code",
   "execution_count": null,
   "metadata": {
    "collapsed": true
   },
   "outputs": [],
   "source": [
    "y = mean_budget\n",
    "N = len(y)\n",
    "x = range(N)\n",
    "width = 0.4\n",
    "barlist = plt.barh(x, y, width, color='g')\n",
    "plt.suptitle('Male Directors and their Budgets', fontsize=20, fontweight='bold')\n",
    "plt.xlabel('Budget in Millions', fontsize=13)\n",
    "plt.yticks(x, director_frequency)\n",
    "plt.xlim([0, 1.5e8])\n",
    "plt.show()"
   ]
  },
  {
   "cell_type": "markdown",
   "metadata": {},
   "source": [
    "This graph shows the top 10 most prolific directors and the average budget they worked with on a movie. It is sorted by average budget. Again, all of these directors are men, so the next graph looks at female directors for comparison."
   ]
  },
  {
   "cell_type": "code",
   "execution_count": null,
   "metadata": {
    "collapsed": true
   },
   "outputs": [],
   "source": [
    "female_directors = direct_df[direct_df['gender'] == '1']\n",
    "mean_budget_female = list()\n",
    "\n",
    "directorF_frequency = female_directors['director'].value_counts()[0:10]\n",
    "directorF_frequency = directorF_frequency.index.tolist()\n",
    "\n",
    "for i in directorF_frequency:\n",
    "    mean_budget_female.append(get_mean_budget(i))\n",
    "    "
   ]
  },
  {
   "cell_type": "code",
   "execution_count": null,
   "metadata": {
    "collapsed": true
   },
   "outputs": [],
   "source": [
    "# Sort mean_budget\n",
    "zipped = zip(directorF_frequency, mean_budget_female)\n",
    "sorted_zipped = sorted(zipped, key=lambda x: x[1])\n",
    "directorF_frequency, mean_budget_female = zip(*sorted_zipped)"
   ]
  },
  {
   "cell_type": "code",
   "execution_count": null,
   "metadata": {
    "collapsed": true
   },
   "outputs": [],
   "source": [
    "y = mean_budget_female\n",
    "N = len(y)\n",
    "x = range(N)\n",
    "width = 0.4\n",
    "barlist = plt.barh(x, y, width, color='r')\n",
    "plt.suptitle('Female Directors and their Budgets', fontsize=20, fontweight='bold')\n",
    "plt.xlabel('Budget in Millions', fontsize=13)\n",
    "plt.yticks(x, directorF_frequency)\n",
    "plt.xlim([0, 1.5e8])\n",
    "plt.show()"
   ]
  },
  {
   "cell_type": "markdown",
   "metadata": {},
   "source": [
    "This graph shows the average budget that the ten most prolific female directors worked with. It is smaller than the male directors. Budget and revenue comparison are difficult with respect to gender; there is much more data on men than on women. For example, Jennifer Yuh Nelson has the highest average budget out of the directors. The reason why it looks like she has a huge average budget is that she directed Kung Fu Panda 2, a movie which made her the first women to solely direct an animated Hollywood movie. In the database she has only directed two movies which is another reason why her average budget is so high.\n",
    "\n",
    "Information about Jennifer Yuh Nelson was snagged from https://en.wikipedia.org/wiki/Jennifer_Yuh_Nelson. "
   ]
  },
  {
   "cell_type": "markdown",
   "metadata": {},
   "source": [
    "## Revenue Analysis\n",
    "\n",
    "The next analysis will be looking at how much money films make tied to the top ten most prolific directors. It will be analyzing net profit with respect to gender."
   ]
  },
  {
   "cell_type": "code",
   "execution_count": null,
   "metadata": {
    "collapsed": true
   },
   "outputs": [],
   "source": [
    "# Getting the mean revenue for female directors\n",
    "gross_earnings_f = list()\n",
    "\n",
    "def get_mean_revenue(director):\n",
    "    return np.mean(direct_df[direct_df['director'] == director]['revenue'] - direct_df[direct_df['director'] == director]['budget'])\n",
    "\n",
    "for i in directorF_frequency:\n",
    "    gross_earnings_f.append(get_mean_revenue(i))"
   ]
  },
  {
   "cell_type": "code",
   "execution_count": null,
   "metadata": {
    "collapsed": true
   },
   "outputs": [],
   "source": [
    "# Sort mean revenue\n",
    "zipped = zip(directorF_frequency, gross_earnings_f)\n",
    "sorted_zipped = sorted(zipped, key=lambda x: x[1])\n",
    "directorF_frequency, gross_earnings_f = zip(*sorted_zipped)"
   ]
  },
  {
   "cell_type": "code",
   "execution_count": null,
   "metadata": {
    "collapsed": true
   },
   "outputs": [],
   "source": [
    "y = gross_earnings_f\n",
    "N = len(y)\n",
    "x = range(N)\n",
    "width = 0.4\n",
    "barlist = plt.barh(x, y, width, color='r')\n",
    "plt.suptitle('Female Directors and Profit', fontsize=20, fontweight='bold')\n",
    "plt.xlabel('Profit in Millions', fontsize=13)\n",
    "plt.yticks(x, directorF_frequency)\n",
    "plt.xlim([0, 4.5e8])\n",
    "plt.show()"
   ]
  },
  {
   "cell_type": "markdown",
   "metadata": {},
   "source": [
    "This graph shows the average net profit for the ten most prolific female directors. Again, Jennifer Yuh Nelson is tied to the highest average profit. For comparison, the next graph will show the highest average profit for male directors."
   ]
  },
  {
   "cell_type": "code",
   "execution_count": null,
   "metadata": {
    "collapsed": true
   },
   "outputs": [],
   "source": [
    "# Net profit for male directors\n",
    "gross_earnings_m = list()\n",
    "\n",
    "for i in director_frequency:\n",
    "    gross_earnings_m.append(get_mean_revenue(i))"
   ]
  },
  {
   "cell_type": "code",
   "execution_count": null,
   "metadata": {
    "collapsed": true
   },
   "outputs": [],
   "source": [
    "# Sort mean revenue\n",
    "zipped = zip(director_frequency, gross_earnings_m)\n",
    "sorted_zipped = sorted(zipped, key=lambda x: x[1])\n",
    "director_frequency, gross_earnings_m = zip(*sorted_zipped)"
   ]
  },
  {
   "cell_type": "code",
   "execution_count": null,
   "metadata": {
    "collapsed": true
   },
   "outputs": [],
   "source": [
    "y = gross_earnings_m\n",
    "N = len(y)\n",
    "x = range(N)\n",
    "width = 0.4\n",
    "barlist = plt.barh(x, y, width, color='g')\n",
    "plt.suptitle('Male Directors and Profit', fontsize=20, fontweight='bold')\n",
    "plt.xlabel('Profit in Millions', fontsize=13)\n",
    "plt.yticks(x, director_frequency)\n",
    "plt.xlim([0, 4.5e8])\n",
    "plt.show()"
   ]
  },
  {
   "cell_type": "markdown",
   "metadata": {},
   "source": [
    "This graph shows the average profit made by the top ten most prolific male directors. It is challenging to compare this graph with the previous graph because there are so few female directors. However these two graphs look similar, with the male directors earning slightly more than the female directors. This could be due to the smaller budgets female directors work with. Most importantly, the difference between these two graphs is much smaller than the previous male/female director comparison graphs. This suggests that female directors make just as much money for film companies as men. "
   ]
  },
  {
   "cell_type": "markdown",
   "metadata": {},
   "source": [
    "# Part 2 - Machine Learning Attempt"
   ]
  },
  {
   "cell_type": "markdown",
   "metadata": {},
   "source": [
    "In this next part of our analysis, we attempt to find out if it is possible to predict the Oscars movie awards based on pure data alone. To accomplish this, we use the Random Forest machine learning algorithm to process certain pieces of data that were available to us. This will allow us to see if there are certain observable characteristics of movies that make it easier to prediect whether it will get a certain award or not."
   ]
  },
  {
   "cell_type": "markdown",
   "metadata": {},
   "source": [
    "# Data Preprocessing and Cleaning for Part 2"
   ]
  },
  {
   "cell_type": "markdown",
   "metadata": {},
   "source": [
    "Just like in part 1, we had to do some preprocessing and cleaning in order to set up our machine learning analysis. We had to remove the extra columns that did not contribute to the analysis and also remove the movies that had missing pieces of data. On top of this, we had to create three different dataframes that would be used in our machine learning analysis: a dataframe for production awards, a dataframe for best picture awards, and a dataframe for actor awards.\n",
    "\n",
    "For production awards we dropped non numeric columns that are not being used as features such as ceremony, year and film. After, we made a y label column that indicates if a given movie got any type of production award. 1 for yes and 0 for no. We also calculated a weighted rating average.\n",
    "\n",
    "For best picture awards we also dropped the same non numeric columns. We also calculated a weighted rating average.\n",
    "\n",
    "For actor awards we dropped the same non numeric columns and created a y label that indicates whether the movie got an actor/actress award with label 1 for yes and 0 for no. We also calculated a weighted rating average.\n",
    "\n",
    "Remaining features for each data frame predictor are: nominated prediction, month, budget, revenue, numvotes, weighted ratings and then it has its respective label for the predictor."
   ]
  },
  {
   "cell_type": "markdown",
   "metadata": {},
   "source": [
    "## Oscars Best Picture\n",
    "We use the Oscars dataset to combine compile all the movies that either got nominated or was awarded Best Picture."
   ]
  },
  {
   "cell_type": "code",
   "execution_count": 4,
   "metadata": {
    "collapsed": true
   },
   "outputs": [],
   "source": [
    "# Import database\n",
    "df_BP = pd.read_csv('cogs108_data/awards.csv')\n",
    "\n",
    "# Drop unnecessary columns\n",
    "df_BP = df_BP[['Award','Winner','Name','Film']]\n",
    "\n",
    "# Uncomment the following line to check all the award categories\n",
    "# df_BP['Award'].unique()"
   ]
  },
  {
   "cell_type": "code",
   "execution_count": null,
   "metadata": {
    "collapsed": true
   },
   "outputs": [],
   "source": [
    "# Replace all the variant names of Best Picture into Best Picture\n",
    "bp_variants = {'Outstanding Picture', 'Outstanding Production', 'Outstanding Motion Picture', 'Best Motion Picture', 'Best Picture'}\n",
    "\n",
    "for index, row in df_BP.iterrows():\n",
    "    if(row['Award'] in bp_variants):\n",
    "        df_BP.loc[index,'Award'] = 'Best Picture'"
   ]
  },
  {
   "cell_type": "code",
   "execution_count": null,
   "metadata": {
    "collapsed": true
   },
   "outputs": [],
   "source": [
    "# Only keep best picture awards\n",
    "df_BP = df_BP[df_BP['Award']=='Best Picture']"
   ]
  },
  {
   "cell_type": "markdown",
   "metadata": {},
   "source": [
    "We noticed that there are 89 pictures instead of the expected 88. We went through them by hand and found that M*A*S*H was put under winning when it should not have. Also there are movies in which the producer is mistakenly put as film name."
   ]
  },
  {
   "cell_type": "code",
   "execution_count": null,
   "metadata": {
    "collapsed": true
   },
   "outputs": [],
   "source": [
    "# M*A*S*H was not a winner\n",
    "df_BP.loc[4852,'Winner']=np.nan\n",
    "# Change to correct film names\n",
    "df_BP.loc[21,'Name']=\"Wings\"\n",
    "df_BP.loc[64,'Name']=\"The Broadway Melody\""
   ]
  },
  {
   "cell_type": "markdown",
   "metadata": {},
   "source": [
    "Several of the nominations had wrong names too..."
   ]
  },
  {
   "cell_type": "code",
   "execution_count": null,
   "metadata": {
    "collapsed": true
   },
   "outputs": [],
   "source": [
    "df_BP.loc[19,'Name']=\"The Racket\"\n",
    "df_BP.loc[20,'Name']=\"7th Heaven\"\n",
    "df_BP.loc[62,'Name']=\"Alibi\"\n",
    "df_BP.loc[63,'Name']=\"In Old Arizona\"\n",
    "df_BP.loc[65,'Name']=\"Hollywood Revue\"\n",
    "df_BP.loc[66,'Name']=\"The Patriot\""
   ]
  },
  {
   "cell_type": "code",
   "execution_count": null,
   "metadata": {
    "collapsed": true
   },
   "outputs": [],
   "source": [
    "# Now we can drop the name row to only have film name\n",
    "df_BP = df_BP[['Name','Winner']]"
   ]
  },
  {
   "cell_type": "code",
   "execution_count": null,
   "metadata": {
    "collapsed": true
   },
   "outputs": [],
   "source": [
    "df_BP['Name'].unique().size"
   ]
  },
  {
   "cell_type": "code",
   "execution_count": null,
   "metadata": {
    "collapsed": true
   },
   "outputs": [],
   "source": [
    "df_BP['Name'].value_counts()"
   ]
  },
  {
   "cell_type": "markdown",
   "metadata": {},
   "source": [
    "Some movie title nominated/won for Best Picture in different years! But that's OK because it's just 5 entires out of 528!!"
   ]
  },
  {
   "cell_type": "code",
   "execution_count": null,
   "metadata": {
    "collapsed": true
   },
   "outputs": [],
   "source": [
    "# Strip whitespace and lowercase the movie titles for consistency\n",
    "df_BP['Name']=df_BP['Name'].str.strip()\n",
    "df_BP['Name']=df_BP['Name'].str.lower()\n",
    "df_BP['Winner'].fillna(0,inplace=True)"
   ]
  },
  {
   "cell_type": "code",
   "execution_count": null,
   "metadata": {
    "collapsed": true
   },
   "outputs": [],
   "source": [
    "# Everything in this dataset is by default nominated\n",
    "df_BP['Nominated']=1"
   ]
  },
  {
   "cell_type": "code",
   "execution_count": null,
   "metadata": {
    "collapsed": true,
    "scrolled": true
   },
   "outputs": [],
   "source": [
    "# Uncomment the following line to see the Best Picture dataframe\n",
    "# df_BP"
   ]
  },
  {
   "cell_type": "markdown",
   "metadata": {},
   "source": [
    "## Month of Release\n",
    "Using the movies dataset, we try to analyze when each movie was released."
   ]
  },
  {
   "cell_type": "code",
   "execution_count": null,
   "metadata": {
    "collapsed": true
   },
   "outputs": [],
   "source": [
    "dfm = pd.read_csv('cogs108_data/movies_metadata.csv')\n",
    "dfm.dropna(subset=['release_date'], inplace = True)"
   ]
  },
  {
   "cell_type": "code",
   "execution_count": null,
   "metadata": {
    "collapsed": true
   },
   "outputs": [],
   "source": [
    "def replace(date):\n",
    "    output = date[5:7]\n",
    "    return output\n",
    "\n",
    "# Use apply() to extra only the month of release\n",
    "dfm['release_date']=dfm['release_date'].apply(replace)\n",
    "dfm=dfm[[\"title\",\"imdb_id\",\"release_date\"]]"
   ]
  },
  {
   "cell_type": "code",
   "execution_count": null,
   "metadata": {
    "collapsed": true
   },
   "outputs": [],
   "source": [
    "# Strip whitespace and tolower for consistency\n",
    "dfm[\"title\"]=dfm[\"title\"].str.strip()\n",
    "dfm[\"title\"]=dfm[\"title\"].str.lower()"
   ]
  },
  {
   "cell_type": "code",
   "execution_count": null,
   "metadata": {
    "collapsed": true
   },
   "outputs": [],
   "source": [
    "# Remove all rows with blank release dates\n",
    "dfm = dfm[dfm[\"release_date\"]!=\"\"]"
   ]
  },
  {
   "cell_type": "code",
   "execution_count": null,
   "metadata": {
    "collapsed": true
   },
   "outputs": [],
   "source": [
    "# Set all month columns as 0 by default\n",
    "dfm['Jan-Feb']=0.0\n",
    "dfm['Mar-Apr']=0.0\n",
    "dfm['May-Jun']=0.0\n",
    "dfm['Jul-Aug']=0.0\n",
    "dfm['Sept-Oct']=0.0\n",
    "dfm['Nov-Dec']=0.0\n",
    "\n",
    "# Set each month category with repective truth value\n",
    "for index,row in dfm.iterrows():\n",
    "    month_num = int(row['release_date'])\n",
    "    if(month_num <=2):\n",
    "        dfm.loc[index,'Jan-Feb']=1.0\n",
    "    elif(month_num<=4):\n",
    "        dfm.loc[index,'Mar-Apr']=1.0\n",
    "    elif(month_num<=6):\n",
    "        dfm.loc[index,'May-Jun']=1.0\n",
    "    elif(month_num<=8):\n",
    "        dfm.loc[index,'Jul-Aug']=1.0\n",
    "    elif(month_num<=10):\n",
    "        dfm.loc[index,'Sept-Oct']=1.0\n",
    "    elif(month_num<=12):\n",
    "        dfm.loc[index,'Nov-Dec']=1.0"
   ]
  },
  {
   "cell_type": "code",
   "execution_count": null,
   "metadata": {
    "collapsed": true,
    "scrolled": true
   },
   "outputs": [],
   "source": [
    "# Uncomment the following to see the month dataframe\n",
    "# dfm"
   ]
  },
  {
   "cell_type": "markdown",
   "metadata": {},
   "source": [
    "## IMDB Weighted Ratings\n",
    "Using the IMDB dataset, we want to create a dataframe that notes the IMDB ratings of each movie"
   ]
  },
  {
   "cell_type": "code",
   "execution_count": null,
   "metadata": {
    "collapsed": true
   },
   "outputs": [],
   "source": [
    "# Renamed data from title.ratings.tsv.gz->data.tsv to ratings.tsv\n",
    "ratings = pd.read_csv('cogs108_data/ratings.tsv',delimiter='\\t')\n",
    "# Renamed data from title.basics.tsv.gz->data.tsv to basics.tsv\n",
    "basics = pd.read_csv('cogs108_data/basics.tsv', delimiter='\\t')"
   ]
  },
  {
   "cell_type": "code",
   "execution_count": null,
   "metadata": {
    "collapsed": true
   },
   "outputs": [],
   "source": [
    "# Remove all things that arent movies\n",
    "basics = basics[basics['titleType'] == \"movie\"]\n",
    "# Remove all adult titles\n",
    "basics = basics[basics['isAdult'] == 0]\n",
    "# Remove unnecessary columns\n",
    "basics = basics.drop(['titleType','originalTitle','isAdult','startYear','endYear','runtimeMinutes','genres'],axis=1)"
   ]
  },
  {
   "cell_type": "code",
   "execution_count": null,
   "metadata": {
    "collapsed": true
   },
   "outputs": [],
   "source": [
    "# Do a inner join on movies that have both ratings and basic info\n",
    "df = pd.merge(basics, ratings, on='tconst', how='inner')\n",
    "# Dont drop the IMDB id just in case for matching\n",
    "#df = df.drop(['tconst'], axis=1)"
   ]
  },
  {
   "cell_type": "markdown",
   "metadata": {},
   "source": [
    "Since a movie could get a 10/10 rating with very few votes, it's only fair for movies to be weighted based on the number of votes."
   ]
  },
  {
   "cell_type": "code",
   "execution_count": null,
   "metadata": {
    "collapsed": true
   },
   "outputs": [],
   "source": [
    "# Add a new column with weighted ratings based on minimum votes\n",
    "minVote = 30000\n",
    "\n",
    "# Scroll down to the bottom of the following link to check how the weighted rating was calculated\n",
    "# https://help.imdb.com/article/imdb/track-movies-tv/faq-for-imdb-ratings/G67Y87TFYYP6TWAV?ref_=helpsect_pro_2_4#\n",
    "df = df.assign(weighted_ratings=((df['numVotes']/(df['numVotes']+minVote))*df['averageRating'])+(minVote/(df['numVotes']+minVote))*df['averageRating'].mean())\n",
    "# Standardize movie names\n",
    "df['primaryTitle']=df['primaryTitle'].str.strip()\n",
    "df['primaryTitle']=df['primaryTitle'].str.lower()\n",
    "\n",
    "\n",
    "df.sort_values(by=['weighted_ratings'], ascending=False)"
   ]
  },
  {
   "cell_type": "markdown",
   "metadata": {},
   "source": [
    "## Production Awards\n",
    "We want to see which movies were nominated production awards and which movies won which awards."
   ]
  },
  {
   "cell_type": "code",
   "execution_count": null,
   "metadata": {
    "collapsed": true
   },
   "outputs": [],
   "source": [
    "awards_df = pd.read_csv(\"cogs108_data/awards.csv\")\n",
    "\n",
    "# For some reason the dataset switched the name/film columns starting at the 3rd ceremony\n",
    "# We had to compensate for this by moving the name of the film to the correct column for the first 3 ceremonies\n",
    "for index, row in awards_df.iterrows():\n",
    "    if(row[\"Ceremony\"] < 3):\n",
    "        awards_df.set_value(index,'Name',row[\"Film\"])\n",
    "\n",
    "\n",
    "# Drop the Ceremony and Year category since they aren't important\n",
    "awards_df.drop([\"Ceremony\", \"Year\", \"Film\"], axis=1, inplace=True)\n",
    "awards_df.rename(columns={'Name': 'Film'}, inplace=True)\n",
    "# Strip whitespace and tolower for consistency\n",
    "awards_df[\"Film\"]=awards_df[\"Film\"].str.strip()\n",
    "awards_df[\"Film\"]=awards_df[\"Film\"].str.lower()\n",
    "\n",
    "awards_df = awards_df.fillna(0)\n",
    "\n",
    "\n",
    "# These are all the awards we consider as production awards\n",
    "awards = [\"Film Editing\", \"Cinematography\", \"Makeup\", \"Production Design\", \"Art Direction\",\n",
    "         \"Sound Editing\", \"Sound Mixing\", \"Special Effects\", \"Special Visual Effects\", \n",
    "          \"Special Achievement Award (Visual Effects)\", \"Visual Effects\", \"Engineering Effects\"]\n",
    "\n",
    "\n",
    "# Remove all of the rows that do not pertain to any of the production related awards\n",
    "awards_df = awards_df[awards_df[\"Award\"].isin(awards)]\n",
    "\n",
    "# Number of nominations for production related awards \n",
    "nominations = awards_df[\"Film\"].value_counts()\n",
    "\n",
    "# Remove the nominations and only get the winenrs\n",
    "# awards_df = awards_df[awards_df[\"Winner\"] == 1]\n",
    "\n",
    "# Numer of winners for production related awards\n",
    "winners_count = awards_df[\"Film\"].value_counts()\n",
    "\n"
   ]
  },
  {
   "cell_type": "code",
   "execution_count": null,
   "metadata": {
    "collapsed": true
   },
   "outputs": [],
   "source": [
    "# Production Design = Art Design\n",
    "# Special Effects = Special Visual Effects = Visual Effects = Engineering Effects = Special Achievement Award (Visual Effects)\n",
    "# Make a new DF indexed by film name\n",
    "prod_awards=pd.DataFrame(columns=['Film','Nominated Production',\"Film Editing\", \"Cinematography\", \"Makeup\", \"Production Design\",\n",
    "         \"Sound Editing\", \"Sound Mixing\", \"Visual Effects\"])"
   ]
  },
  {
   "cell_type": "code",
   "execution_count": null,
   "metadata": {
    "collapsed": true
   },
   "outputs": [],
   "source": [
    "prod_awards['Film'] = awards_df['Film'].unique()\n",
    "# Initialize all fields to 0\n",
    "prod_awards=prod_awards.fillna(0)\n",
    "prod_awards"
   ]
  },
  {
   "cell_type": "markdown",
   "metadata": {},
   "source": [
    "In index 1, for example, you can see that there is actually two movies listed in one cell. We need to deal with any instance of this. Fortunately, it only occurs a few times, so we can do everything manually."
   ]
  },
  {
   "cell_type": "code",
   "execution_count": null,
   "metadata": {
    "collapsed": true
   },
   "outputs": [],
   "source": [
    "# Removing specific movie names that put more than one movie in the same name\n",
    "prod_awards = prod_awards[prod_awards['Film']!=\"the devil dancer; the magic flame; sadie thompson\"]\n",
    "prod_awards = prod_awards[prod_awards['Film']!=\"the dove; tempest\"]\n",
    "prod_awards = prod_awards[prod_awards['Film']!=\"alibi; and the awakening\"]\n",
    "prod_awards = prod_awards[prod_awards['Film']!=\"four devils; and street angel\"]\n",
    "# Removing specific movie names that put more than one movie in the same name\n",
    "awards_df = awards_df[awards_df['Film']!=\"the devil dancer; the magic flame; sadie thompson\"]\n",
    "awards_df = awards_df[awards_df['Film']!=\"the dove; tempest\"]\n",
    "awards_df = awards_df[awards_df['Film']!=\"alibi; and the awakening\"]\n",
    "awards_df = awards_df[awards_df['Film']!=\"four devils; and street angel\"]"
   ]
  },
  {
   "cell_type": "code",
   "execution_count": null,
   "metadata": {
    "collapsed": true
   },
   "outputs": [],
   "source": [
    "# Manually insert all the names with multiple production awards\n",
    "prod_awards.loc[884,\"Film\"]=\"the dove\"\n",
    "prod_awards.loc[885,\"Film\"]=\"tempest\"\n",
    "prod_awards.loc[886,\"Film\"]=\"the devil dancer\"\n",
    "prod_awards.loc[887,\"Film\"]=\"the magic flame\"\n",
    "prod_awards.loc[888,\"Film\"]=\"saddie thompson\"\n",
    "prod_awards.loc[889,\"Film\"]=\"alibi\"\n",
    "prod_awards.loc[890,\"Film\"]=\"the awakening\"\n",
    "prod_awards.loc[891,\"Film\"]=\"four devils\"\n",
    "prod_awards=prod_awards.fillna(0)\n",
    "# Every film was nominated\n",
    "prod_awards[\"Nominated Production\"]=1\n",
    "\n",
    "# Set the awards for these two films that won\n",
    "prod_awards.loc[884,\"Production Design\"]=1.0\n",
    "prod_awards.loc[885,\"Production Design\"]=1.0"
   ]
  },
  {
   "cell_type": "code",
   "execution_count": null,
   "metadata": {
    "collapsed": true
   },
   "outputs": [],
   "source": [
    "# Temporarily set index as film name\n",
    "prod_awards.set_index('Film',inplace=True)"
   ]
  },
  {
   "cell_type": "code",
   "execution_count": null,
   "metadata": {
    "collapsed": true
   },
   "outputs": [],
   "source": [
    "# Set the respective column's truth value for any awards\n",
    "for index,row in awards_df.iterrows():\n",
    "    if row['Award']=='Film Editing':\n",
    "            prod_awards.loc[row[\"Film\"],'Film Editing']=row[\"Winner\"]\n",
    "    elif row['Award']=='Art Direction' or row['Award']=='Production Design':\n",
    "            prod_awards.loc[row[\"Film\"],'Production Design']=row['Winner']\n",
    "    elif row['Award']=='Cinematography':\n",
    "            prod_awards.loc[row[\"Film\"],'Cinematography']=row['Winner']\n",
    "    elif row['Award']=='Visual Effects' or row['Award']=='Special Achievement Award (Visual Effects)' or row['Award']=='Engineering Effects' or row['Award']=='Special Effects' or row['Award']=='Special Visual Effects':\n",
    "            prod_awards.loc[row[\"Film\"],'Visual Effects']=row['Winner']\n",
    "    elif row['Award']=='Makeup':\n",
    "            prod_awards.loc[row[\"Film\"],'Makeup']=row['Winner']\n",
    "    elif row['Award']=='Sound Editing':\n",
    "            prod_awards.loc[row[\"Film\"],'Sound Editing']=row['Winner']\n",
    "    elif row['Award']=='Sound Mixing':\n",
    "            prod_awards.loc[row[\"Film\"],'Sound Mixing']=row['Winner']"
   ]
  },
  {
   "cell_type": "code",
   "execution_count": null,
   "metadata": {
    "collapsed": true
   },
   "outputs": [],
   "source": [
    "# Set index back to numbers and not film name\n",
    "prod_awards=prod_awards.reset_index()\n",
    "prod_awards=prod_awards.fillna(0)"
   ]
  },
  {
   "cell_type": "markdown",
   "metadata": {},
   "source": [
    "## Actor Awards\n",
    "Extract from the Oscars dataframe all movies that got nominated or won an actor/actress related award."
   ]
  },
  {
   "cell_type": "code",
   "execution_count": null,
   "metadata": {
    "collapsed": true
   },
   "outputs": [],
   "source": [
    "# Setting up the data frame to contain acting related awards\n",
    "\n",
    "actors_df = pd.read_csv('cogs108_data/awards.csv')\n",
    "\n",
    "actors_df = actors_df.loc[((actors_df['Award'] == \"Actor\") | (actors_df['Award'] == \"Actress\") | (actors_df['Award'] == \"Actor in a Supporting Role\") | (actors_df['Award'] == \"Actress in a Supporting Role\"))]\n",
    "\n",
    "actors_df = actors_df.drop([\"Name\", \"Year\", \"Ceremony\"], axis=1)\n",
    "actors_df.fillna(0, inplace=True)"
   ]
  },
  {
   "cell_type": "code",
   "execution_count": null,
   "metadata": {
    "collapsed": true
   },
   "outputs": [],
   "source": [
    "awards_df = pd.DataFrame(columns=[\"Film\", \"Nominated Actor\", \"Actor\", \"Actress\", \"Supporting Actor\", \"Supporting Actress\"])\n",
    "\n",
    "# List out all the unique films listed in the awards\n",
    "awards_df[\"Film\"] = actors_df[\"Film\"].unique()\n",
    "\n",
    "# Every one of these movies were nominated an actor award by default\n",
    "awards_df[\"Nominated Actor\"] = 1\n",
    "awards_df.fillna(0, inplace=True)"
   ]
  },
  {
   "cell_type": "code",
   "execution_count": null,
   "metadata": {
    "collapsed": true
   },
   "outputs": [],
   "source": [
    "actors_df.set_index('Film',inplace=True)\n",
    "awards_df.set_index('Film',inplace=True)\n",
    "# Fill all relevant truth values for each award\n",
    "for index, row in actors_df.iterrows():\n",
    "    if(row[\"Award\"] == \"Actor\"):\n",
    "        awards_df.loc[index, \"Actor\"] = row[\"Winner\"]\n",
    "    elif(row[\"Award\"] == \"Actress\"):\n",
    "        awards_df.loc[index, \"Actress\"] = row[\"Winner\"]\n",
    "    elif(row[\"Award\"] == \"Actor in a Supporting Role\"):\n",
    "        awards_df.loc[index, \"Supporting Actor\"] = row[\"Winner\"]\n",
    "    elif(row[\"Award\"] == \"Actress in a Supporting Role\"):\n",
    "        awards_df.loc[index, \"Supporting Actress\"] = row[\"Winner\"]\n",
    "\n",
    "actors_df.reset_index(inplace=True)\n",
    "awards_df.reset_index(inplace=True)\n",
    "\n",
    "# Standardize film name\n",
    "awards_df['Film']=awards_df['Film'].str.strip()\n",
    "awards_df['Film']=awards_df['Film'].str.lower()\n",
    "\n",
    "awards_df"
   ]
  },
  {
   "cell_type": "markdown",
   "metadata": {},
   "source": [
    "## Movie Budget"
   ]
  },
  {
   "cell_type": "code",
   "execution_count": null,
   "metadata": {
    "collapsed": true
   },
   "outputs": [],
   "source": [
    "budget_df = pd.read_csv(\"cogs108_data/movies_metadata.csv\")\n",
    "\n",
    "# Cleaning up the dataset for some useful analysis on budget\n",
    "budget_df.drop([\"adult\", \"belongs_to_collection\", \"genres\", \"homepage\", \"id\", \"original_language\", \"runtime\", \n",
    "                \"spoken_languages\", \"status\", \"tagline\", \"poster_path\", \"production_countries\", \n",
    "                \"original_title\", \"overview\", \"video\"], inplace = True, axis=1)\n",
    "\n",
    "\n",
    "def convertToInt(string):\n",
    "    return int(string)\n",
    "\n",
    "# Strip whitespace and tolower for consistency\n",
    "budget_df[\"title\"]=budget_df[\"title\"].str.strip()\n",
    "budget_df[\"title\"]=budget_df[\"title\"].str.lower()"
   ]
  },
  {
   "cell_type": "code",
   "execution_count": null,
   "metadata": {
    "collapsed": true,
    "scrolled": true
   },
   "outputs": [],
   "source": [
    "# Get the movies for which we have budget and revenue information\n",
    "print(budget_df.shape)\n",
    "budget_df = budget_df[(budget_df[\"budget\"] != \"0\")]\n",
    "budget_df = budget_df[(budget_df[\"budget\"] != \"/ff9qCepilowshEtG2GYWwzt2bs4.jpg\")]\n",
    "budget_df = budget_df[(budget_df[\"budget\"] != \"/zV8bHuSL6WXoD6FWogP9j4x80bL.jpg\")]\n",
    "budget_df = budget_df[(budget_df[\"budget\"] != \"/zaSf5OG7V8X8gqFvly88zDdRm46.jpg\")]\n",
    "budget_df = budget_df[(budget_df[\"revenue\"] != 0)]\n",
    "print(budget_df.shape)\n",
    "budget_df[\"budget\"].apply(convertToInt)"
   ]
  },
  {
   "cell_type": "markdown",
   "metadata": {},
   "source": [
    "## Merging the three Predictor Datasets"
   ]
  },
  {
   "cell_type": "markdown",
   "metadata": {
    "collapsed": true
   },
   "source": [
    "DATAFRAMES AND WHAT DATA THEY HOLD<br>\n",
    "Best picture: df_BP<br>\n",
    "Month of release: dfm<br>\n",
    "Weighted Ratings: df<br>\n",
    "Production Awards: prod_awards<br>\n",
    "Actors Award: awards_df<br>\n",
    "Budget: budget_df<br>"
   ]
  },
  {
   "cell_type": "code",
   "execution_count": null,
   "metadata": {
    "collapsed": true
   },
   "outputs": [],
   "source": [
    "# Rename all the title columns to the same name\n",
    "df_BP.rename(columns = {'Name':'Film'}, inplace = True)\n",
    "dfm.rename(columns = {'title':'Film'}, inplace = True)\n",
    "df.rename(columns = {'primaryTitle':'Film'}, inplace = True)\n",
    "budget_df.rename(columns = {'title':'Film'}, inplace = True)\n",
    "df.rename(columns = {'tconst':'imdb_id'}, inplace = True)\n"
   ]
  },
  {
   "cell_type": "code",
   "execution_count": null,
   "metadata": {
    "collapsed": true
   },
   "outputs": [],
   "source": [
    "# Reduce the budget df to only the necessary columns\n",
    "budget_df.drop([\"popularity\",\"production_companies\",\"release_date\",\"vote_average\",\"vote_count\"], inplace = True, axis=1)"
   ]
  },
  {
   "cell_type": "code",
   "execution_count": null,
   "metadata": {
    "collapsed": true
   },
   "outputs": [],
   "source": [
    "predictor_df = pd.merge(dfm, budget_df, on='imdb_id', how='inner')\n",
    "predictor_df = pd.merge(predictor_df, df, on='imdb_id', how='inner')"
   ]
  },
  {
   "cell_type": "code",
   "execution_count": null,
   "metadata": {
    "collapsed": true
   },
   "outputs": [],
   "source": [
    "# These three dfs are the ones we want to merge to use as predictors for the awards\n",
    "print(df.shape)\n",
    "print(dfm.shape)\n",
    "print(budget_df.shape)"
   ]
  },
  {
   "cell_type": "code",
   "execution_count": null,
   "metadata": {
    "collapsed": true
   },
   "outputs": [],
   "source": [
    "# Drop all rows with repeating imdb ids\n",
    "predictor_df = predictor_df.drop_duplicates(subset=['imdb_id'], keep='first')\n",
    "# Drop all unneeded columns\n",
    "predictor_df=predictor_df.drop(['imdb_id', 'Film_y', 'Film_x'], axis=1)"
   ]
  },
  {
   "cell_type": "code",
   "execution_count": null,
   "metadata": {
    "collapsed": true
   },
   "outputs": [],
   "source": [
    "# Combining predictors with Best Picture\n",
    "predict_BP = pd.merge(df_BP, predictor_df, on='Film', how='right')\n",
    "predict_BP = predict_BP.fillna(0)\n",
    "# Combining predictors with Production Awards\n",
    "predict_Prod = pd.merge(prod_awards, predictor_df, on='Film', how='right')\n",
    "predict_Prod = predict_Prod.fillna(0)\n",
    "# Combining predictors with Actor Awards\n",
    "predict_Actor = pd.merge(awards_df, predictor_df, on='Film', how='right')\n",
    "predict_Actor = predict_Actor.fillna(0)"
   ]
  },
  {
   "cell_type": "markdown",
   "metadata": {},
   "source": [
    "We want to use the parameters: budget, month of release, and IMDB rating to predict the likelyhood of winning Academy Actor Awards, Academy Production Awards, and Academy Best Picture Awards."
   ]
  },
  {
   "cell_type": "code",
   "execution_count": null,
   "metadata": {
    "collapsed": true
   },
   "outputs": [],
   "source": [
    "def convert_str(label):\n",
    "    return float(label)"
   ]
  },
  {
   "cell_type": "code",
   "execution_count": null,
   "metadata": {
    "collapsed": true
   },
   "outputs": [],
   "source": [
    "#Reorganize the labels before doing the ML analysis\n",
    "predict_BP_ML = predict_BP.copy()\n",
    "predict_BP_ML.drop(['release_date','averageRating'],axis=1,inplace= True)\n",
    "\n",
    "predict_Prod_ML = predict_Prod.copy()\n",
    "predict_Prod_ML.drop(['release_date','averageRating'],axis=1,inplace= True)\n",
    "\n",
    "predict_Actor_ML = predict_Actor.copy()\n",
    "predict_Actor_ML.drop(['release_date','averageRating'],axis=1,inplace= True)\n",
    "\n",
    "predict_BP_ML['budget'] = predict_BP_ML['budget'].apply(convert_str)\n",
    "predict_BP_ML['numVotes'] = predict_BP_ML['numVotes'].apply(convert_str)\n",
    "predict_BP_ML"
   ]
  },
  {
   "cell_type": "code",
   "execution_count": null,
   "metadata": {
    "collapsed": true
   },
   "outputs": [],
   "source": [
    "#Fix Predictor Actor\n",
    "predict_Actor_ML[\"Winner\"] = 0.0\n",
    "for i in range(0,predict_Actor_ML.shape[0]):\n",
    "    if ((predict_Actor_ML['Actor'][i] == 1) | (predict_Actor_ML['Actress'][i] == 1)):\n",
    "        predict_Actor_ML.iat[i,16] = 1.0\n",
    "        \n",
    "predict_Actor_ML.drop(['Actor','Actress',\n",
    "                       'Supporting Actor',\n",
    "                       'Supporting Actress'],axis = 1,inplace = True)\n",
    "predict_Actor_ML['budget'] = predict_Actor_ML['budget'].apply(convert_str)\n",
    "predict_Actor_ML['numVotes'] = predict_Actor_ML['numVotes'].apply(convert_str)\n",
    "predict_Actor_ML"
   ]
  },
  {
   "cell_type": "code",
   "execution_count": null,
   "metadata": {
    "collapsed": true
   },
   "outputs": [],
   "source": [
    "#Fix Predictor Prod\n",
    "predict_Prod_ML[\"Winner\"] = 0.0\n",
    "for i in range(0,predict_Prod_ML.shape[0]):\n",
    "    if ((predict_Prod_ML['Film Editing'][i] == 1) | \n",
    "        (predict_Prod_ML['Cinematography'][i] == 1)|\n",
    "        (predict_Prod_ML['Makeup'][i] == 1) |\n",
    "        (predict_Prod_ML['Production Design'][i] == 1) |\n",
    "        (predict_Prod_ML['Sound Editing'][i] == 1) |\n",
    "        (predict_Prod_ML['Sound Mixing'][i] == 1) |\n",
    "        (predict_Prod_ML['Visual Effects'][i] == 1)):\n",
    "        predict_Prod_ML.iat[i,19] = 1.0\n",
    "predict_Prod_ML.drop(['Film Editing','Cinematography',\n",
    "                       'Makeup','Production Design',\n",
    "                       'Sound Editing',\n",
    "                       'Sound Mixing',\n",
    "                       'Visual Effects'],axis = 1,inplace = True)\n",
    "predict_Prod_ML['budget'] = predict_Prod_ML['budget'].apply(convert_str)\n",
    "predict_Prod_ML['numVotes'] = predict_Prod_ML['numVotes'].apply(convert_str)\n",
    "predict_Prod_ML"
   ]
  },
  {
   "cell_type": "markdown",
   "metadata": {},
   "source": [
    "## Machine Learning Analysis"
   ]
  },
  {
   "cell_type": "code",
   "execution_count": null,
   "metadata": {
    "collapsed": true
   },
   "outputs": [],
   "source": [
    "#y labels\n",
    "y_BP = predict_BP_ML.iloc[:,1:2]\n",
    "y_PA = predict_Prod_ML.iloc[:,12:13]\n",
    "y_AA = predict_Actor_ML.iloc[:,12:13]"
   ]
  },
  {
   "cell_type": "code",
   "execution_count": null,
   "metadata": {
    "collapsed": true
   },
   "outputs": [],
   "source": [
    "#x features\n",
    "X_BP = predict_BP_ML.iloc[:,2:13]\n",
    "X_PA = predict_Prod_ML.iloc[:,1:12]\n",
    "X_AA = predict_Actor_ML.iloc[:,1:12]"
   ]
  },
  {
   "cell_type": "code",
   "execution_count": null,
   "metadata": {
    "collapsed": true
   },
   "outputs": [],
   "source": [
    "#Combine\n",
    "XY_BP = pd.concat([X_BP,y_BP],axis = 1).values\n",
    "XY_PA = pd.concat([X_PA,y_PA],axis = 1).values\n",
    "XY_AA = pd.concat([X_AA,y_AA],axis = 1).values"
   ]
  },
  {
   "cell_type": "code",
   "execution_count": null,
   "metadata": {
    "collapsed": true
   },
   "outputs": [],
   "source": [
    "#Shuffle\n",
    "np.random.shuffle(XY_BP)\n",
    "np.random.shuffle(XY_PA)\n",
    "np.random.shuffle(XY_AA)\n",
    "\n",
    "#Print Shapes\n",
    "print(XY_BP.shape)\n",
    "print(XY_PA.shape)\n",
    "print(XY_AA.shape)"
   ]
  },
  {
   "cell_type": "code",
   "execution_count": null,
   "metadata": {
    "collapsed": true
   },
   "outputs": [],
   "source": [
    "#Get Each X and Y\n",
    "BP_X = XY_BP[:,0:11]\n",
    "BP_Y = XY_BP[:,11:12]\n",
    "\n",
    "PA_X = XY_PA[:,0:11]\n",
    "PA_Y = XY_PA[:,11:12]\n",
    "\n",
    "AA_X = XY_AA[:,0:11]\n",
    "AA_Y = XY_AA[:,11:12]"
   ]
  },
  {
   "cell_type": "code",
   "execution_count": null,
   "metadata": {
    "collapsed": true
   },
   "outputs": [],
   "source": [
    "#Split\n",
    "num_training_BP = int(0.8*BP_X.shape[0])\n",
    "num_testing_BP = int(0.2*BP_X.shape[0])\n",
    "\n",
    "num_training_PA = int(0.8*PA_X.shape[0])\n",
    "num_testing_PA = int(0.2*PA_X.shape[0])\n",
    "\n",
    "num_training_AA = int(0.8*AA_X.shape[0])\n",
    "num_testing_AA = int(0.2*AA_X.shape[0])\n",
    "\n",
    "BP_X_train = BP_X[:num_training_BP] \n",
    "BP_Y_train = BP_Y[:num_training_BP] \n",
    "BP_X_test = BP_X[num_training_BP:] \n",
    "BP_Y_test = BP_Y[num_training_BP:] \n",
    "\n",
    "PA_X_train = PA_X[:num_training_PA] \n",
    "PA_Y_train = PA_Y[:num_training_PA] \n",
    "PA_X_test = PA_X[num_training_PA:] \n",
    "PA_Y_test = PA_Y[num_training_PA:] \n",
    "\n",
    "AA_X_train =AA_X[:num_training_AA] \n",
    "AA_Y_train = AA_Y[:num_training_AA] \n",
    "AA_X_test = AA_X[num_training_AA:] \n",
    "AA_Y_test = AA_Y[num_training_AA:] "
   ]
  },
  {
   "cell_type": "markdown",
   "metadata": {},
   "source": [
    "## Random Forest for Best Picture Awards"
   ]
  },
  {
   "cell_type": "code",
   "execution_count": null,
   "metadata": {
    "collapsed": true
   },
   "outputs": [],
   "source": [
    "depth_list = [1, 2, 3, 4, 5]\n",
    "params = {\"max_depth\": depth_list}\n",
    "classifier = RandomForestClassifier(max_depth=5,\n",
    "                                    random_state=0)\n",
    "grid_rf_BP = GridSearchCV(classifier, params, \n",
    "                            return_train_score = True, cv = 10)\n",
    "grid_rf_BP.fit(BP_X_train, BP_Y_train.ravel())"
   ]
  },
  {
   "cell_type": "code",
   "execution_count": null,
   "metadata": {
    "collapsed": true
   },
   "outputs": [],
   "source": [
    "predictions = grid_rf_BP.predict(BP_X_test)\n",
    "correct = []\n",
    "size = predictions.shape[0]\n",
    "for i in range(0,size):\n",
    "    if predictions[i] == BP_Y_test[i]:\n",
    "        correct.append(predictions[i])\n",
    "test_accuracy = len(correct)/predictions.shape[0]\n",
    "print(\"Test Accuracy:\")\n",
    "print(test_accuracy)"
   ]
  },
  {
   "cell_type": "markdown",
   "metadata": {},
   "source": [
    "## Random Forest for Production Awards"
   ]
  },
  {
   "cell_type": "code",
   "execution_count": null,
   "metadata": {
    "collapsed": true
   },
   "outputs": [],
   "source": [
    "depth_list = [1, 2, 3, 4, 5]\n",
    "params = {\"max_depth\": depth_list}\n",
    "classifier = RandomForestClassifier(max_depth=5,\n",
    "                                    random_state=0)\n",
    "grid_rf_PA = GridSearchCV(classifier, params, \n",
    "                            return_train_score = True, cv = 10)\n",
    "grid_rf_PA.fit(PA_X_train, PA_Y_train.ravel())"
   ]
  },
  {
   "cell_type": "code",
   "execution_count": null,
   "metadata": {
    "collapsed": true
   },
   "outputs": [],
   "source": [
    "predictions = grid_rf_PA.predict(PA_X_test)\n",
    "correct = []\n",
    "size = predictions.shape[0]\n",
    "for i in range(0,size):\n",
    "    if predictions[i] == PA_Y_test[i]:\n",
    "        correct.append(predictions[i])\n",
    "test_accuracy = len(correct)/predictions.shape[0]\n",
    "print(\"Test Accuracy:\")\n",
    "print(test_accuracy)"
   ]
  },
  {
   "cell_type": "markdown",
   "metadata": {},
   "source": [
    "## Random Forest for Actor Awards"
   ]
  },
  {
   "cell_type": "code",
   "execution_count": null,
   "metadata": {
    "collapsed": true
   },
   "outputs": [],
   "source": [
    "depth_list = [1, 2, 3, 4, 5]\n",
    "params = {\"max_depth\": depth_list}\n",
    "classifier = RandomForestClassifier(max_depth=5,\n",
    "                                    random_state=0)\n",
    "grid_rf_AA = GridSearchCV(classifier, params, \n",
    "                            return_train_score = True, cv = 10)\n",
    "grid_rf_AA.fit(AA_X_train, AA_Y_train.ravel())"
   ]
  },
  {
   "cell_type": "code",
   "execution_count": null,
   "metadata": {
    "collapsed": true
   },
   "outputs": [],
   "source": [
    "predictions = grid_rf_AA.predict(AA_X_test)\n",
    "correct = []\n",
    "size = predictions.shape[0]\n",
    "for i in range(0,size):\n",
    "    if predictions[i] == AA_Y_test[i]:\n",
    "        correct.append(predictions[i])\n",
    "test_accuracy = len(correct)/predictions.shape[0]\n",
    "print(\"Test Accuracy:\")\n",
    "print(test_accuracy)"
   ]
  },
  {
   "cell_type": "markdown",
   "metadata": {},
   "source": [
    "For each of our three predicting Machine Learning Algorithms, we got surprisingly high accuracies. we believe this is largely due to the fact that we had too little success cases, for exampe, only 88 out of 5000 movies in our dataset predicting Best Picture actually won best picture. This may have caused the prediction to be easily made because most movies are not nominated or winning movies."
   ]
  },
  {
   "cell_type": "markdown",
   "metadata": {},
   "source": [
    "# Conclusion and Future Considerations"
   ]
  },
  {
   "cell_type": "markdown",
   "metadata": {},
   "source": [
    "By the end of the analysis we have discovered a few different critical idea.\n",
    "\n",
    "1.) There are certain characteristics that are good indicators of a movie's financial success. These same indicators, however,\n",
    "    are not as good for predicting a movie's critical success. This may be because there are certain critical properties of \n",
    "    a movie that are just not easily quantifiable. This may be because these are characteristics that are based off of human\n",
    "    emotion and concious which are more difficult to interpret using algorithms.\n",
    "    \n",
    "2.) Using machine learning is a good start to predict awards for movies, such as the Oscars. This part of our analysis somewhat\n",
    "    parallels the previous statements we made about characteristics that are not easily quantifiable. There are many awards that\n",
    "    take much more than simple data analysis to predict. Also, in order to develop an accurate machine learning algorithm\n",
    "    for such a goal, one may want to consider focusing their predictions a bit more. In our case, our machine learning\n",
    "    algorithm was predicting both the winners and losers for the algorithm, giving it a higher than expected test accuracy. \n",
    "    \n",
    "For some future works, there are a couple of different paths that can be taken. For one, we may want to consider gathering\n",
    "other data to rework our predicitons on critical success and movie awards. For example, awards that are related to traits\n",
    "of a movie, such as writing, are less based on the data that we gathered (budget, revenue, etc.). For such a case, we may\n",
    "want to consider analyzing the scripts to see if there are any sort of simlarities between the scripts that usually win these\n",
    "types of awards. This could also help us determine how the script relates to a movie's critical success. This is just one of the\n",
    "many adjustments that can be made to make a better analysis. This, however, would require careful data selection as there are\n",
    "so many different considerations to make when analyzing a movie.\n",
    "   "
   ]
  },
  {
   "cell_type": "code",
   "execution_count": null,
   "metadata": {
    "collapsed": true
   },
   "outputs": [],
   "source": []
  }
 ],
 "metadata": {
  "kernelspec": {
   "display_name": "Python 3",
   "language": "python",
   "name": "python3"
  },
  "language_info": {
   "codemirror_mode": {
    "name": "ipython",
    "version": 3
   },
   "file_extension": ".py",
   "mimetype": "text/x-python",
   "name": "python",
   "nbconvert_exporter": "python",
   "pygments_lexer": "ipython3",
   "version": "3.6.4"
  }
 },
 "nbformat": 4,
 "nbformat_minor": 2
}
